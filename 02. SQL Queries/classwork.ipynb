{
 "cells": [
  {
   "cell_type": "code",
   "execution_count": 1,
   "metadata": {
    "vscode": {
     "languageId": "sql"
    }
   },
   "outputs": [],
   "source": [
    "%%capture\n",
    "%load_ext sql\n",
    "%sql sqlite:///Jobs.db"
   ]
  },
  {
   "cell_type": "code",
   "execution_count": 2,
   "metadata": {
    "vscode": {
     "languageId": "sql"
    }
   },
   "outputs": [
    {
     "name": "stdout",
     "output_type": "stream",
     "text": [
      " * sqlite:///Jobs.db\n",
      "Done.\n"
     ]
    },
    {
     "data": {
      "text/html": [
       "<table>\n",
       "    <thead>\n",
       "        <tr>\n",
       "            <th>index</th>\n",
       "            <th>Rank</th>\n",
       "            <th>Major_code</th>\n",
       "            <th>Major</th>\n",
       "            <th>Major_category</th>\n",
       "            <th>Total</th>\n",
       "            <th>Sample_size</th>\n",
       "            <th>Men</th>\n",
       "            <th>Women</th>\n",
       "            <th>ShareWomen</th>\n",
       "            <th>Employed</th>\n",
       "            <th>Full_time</th>\n",
       "            <th>Part_time</th>\n",
       "            <th>Full_time_year_round</th>\n",
       "            <th>Unemployed</th>\n",
       "            <th>Unemployment_rate</th>\n",
       "            <th>Median</th>\n",
       "            <th>P25th</th>\n",
       "            <th>P75th</th>\n",
       "            <th>College_jobs</th>\n",
       "            <th>Non_college_jobs</th>\n",
       "            <th>Low_wage_jobs</th>\n",
       "        </tr>\n",
       "    </thead>\n",
       "    <tbody>\n",
       "        <tr>\n",
       "            <td>0</td>\n",
       "            <td>1</td>\n",
       "            <td>2419</td>\n",
       "            <td>PETROLEUM ENGINEERING</td>\n",
       "            <td>Engineering</td>\n",
       "            <td>2339</td>\n",
       "            <td>36</td>\n",
       "            <td>2057</td>\n",
       "            <td>282</td>\n",
       "            <td>0.120564344</td>\n",
       "            <td>1976</td>\n",
       "            <td>1849</td>\n",
       "            <td>270</td>\n",
       "            <td>1207</td>\n",
       "            <td>37</td>\n",
       "            <td>0.018380527</td>\n",
       "            <td>110000</td>\n",
       "            <td>95000</td>\n",
       "            <td>125000</td>\n",
       "            <td>1534</td>\n",
       "            <td>364</td>\n",
       "            <td>193</td>\n",
       "        </tr>\n",
       "        <tr>\n",
       "            <td>1</td>\n",
       "            <td>2</td>\n",
       "            <td>2416</td>\n",
       "            <td>MINING AND MINERAL ENGINEERING</td>\n",
       "            <td>Engineering</td>\n",
       "            <td>756</td>\n",
       "            <td>7</td>\n",
       "            <td>679</td>\n",
       "            <td>77</td>\n",
       "            <td>0.10185185199999999</td>\n",
       "            <td>640</td>\n",
       "            <td>556</td>\n",
       "            <td>170</td>\n",
       "            <td>388</td>\n",
       "            <td>85</td>\n",
       "            <td>0.117241379</td>\n",
       "            <td>75000</td>\n",
       "            <td>55000</td>\n",
       "            <td>90000</td>\n",
       "            <td>350</td>\n",
       "            <td>257</td>\n",
       "            <td>50</td>\n",
       "        </tr>\n",
       "        <tr>\n",
       "            <td>2</td>\n",
       "            <td>3</td>\n",
       "            <td>2415</td>\n",
       "            <td>METALLURGICAL ENGINEERING</td>\n",
       "            <td>Engineering</td>\n",
       "            <td>856</td>\n",
       "            <td>3</td>\n",
       "            <td>725</td>\n",
       "            <td>131</td>\n",
       "            <td>0.153037383</td>\n",
       "            <td>648</td>\n",
       "            <td>558</td>\n",
       "            <td>133</td>\n",
       "            <td>340</td>\n",
       "            <td>16</td>\n",
       "            <td>0.024096386</td>\n",
       "            <td>73000</td>\n",
       "            <td>50000</td>\n",
       "            <td>105000</td>\n",
       "            <td>456</td>\n",
       "            <td>176</td>\n",
       "            <td>0</td>\n",
       "        </tr>\n",
       "        <tr>\n",
       "            <td>3</td>\n",
       "            <td>4</td>\n",
       "            <td>2417</td>\n",
       "            <td>NAVAL ARCHITECTURE AND MARINE ENGINEERING</td>\n",
       "            <td>Engineering</td>\n",
       "            <td>1258</td>\n",
       "            <td>16</td>\n",
       "            <td>1123</td>\n",
       "            <td>135</td>\n",
       "            <td>0.107313196</td>\n",
       "            <td>758</td>\n",
       "            <td>1069</td>\n",
       "            <td>150</td>\n",
       "            <td>692</td>\n",
       "            <td>40</td>\n",
       "            <td>0.050125313</td>\n",
       "            <td>70000</td>\n",
       "            <td>43000</td>\n",
       "            <td>80000</td>\n",
       "            <td>529</td>\n",
       "            <td>102</td>\n",
       "            <td>0</td>\n",
       "        </tr>\n",
       "        <tr>\n",
       "            <td>4</td>\n",
       "            <td>5</td>\n",
       "            <td>2405</td>\n",
       "            <td>CHEMICAL ENGINEERING</td>\n",
       "            <td>Engineering</td>\n",
       "            <td>32260</td>\n",
       "            <td>289</td>\n",
       "            <td>21239</td>\n",
       "            <td>11021</td>\n",
       "            <td>0.341630502</td>\n",
       "            <td>25694</td>\n",
       "            <td>23170</td>\n",
       "            <td>5180</td>\n",
       "            <td>16697</td>\n",
       "            <td>1672</td>\n",
       "            <td>0.061097712</td>\n",
       "            <td>65000</td>\n",
       "            <td>50000</td>\n",
       "            <td>75000</td>\n",
       "            <td>18314</td>\n",
       "            <td>4440</td>\n",
       "            <td>972</td>\n",
       "        </tr>\n",
       "    </tbody>\n",
       "</table>"
      ],
      "text/plain": [
       "[(0, 1, 2419, 'PETROLEUM ENGINEERING', 'Engineering', 2339, 36, 2057, 282, 0.120564344, 1976, 1849, 270, 1207, 37, 0.018380527, 110000, 95000, 125000, 1534, 364, 193),\n",
       " (1, 2, 2416, 'MINING AND MINERAL ENGINEERING', 'Engineering', 756, 7, 679, 77, 0.10185185199999999, 640, 556, 170, 388, 85, 0.117241379, 75000, 55000, 90000, 350, 257, 50),\n",
       " (2, 3, 2415, 'METALLURGICAL ENGINEERING', 'Engineering', 856, 3, 725, 131, 0.153037383, 648, 558, 133, 340, 16, 0.024096386, 73000, 50000, 105000, 456, 176, 0),\n",
       " (3, 4, 2417, 'NAVAL ARCHITECTURE AND MARINE ENGINEERING', 'Engineering', 1258, 16, 1123, 135, 0.107313196, 758, 1069, 150, 692, 40, 0.050125313, 70000, 43000, 80000, 529, 102, 0),\n",
       " (4, 5, 2405, 'CHEMICAL ENGINEERING', 'Engineering', 32260, 289, 21239, 11021, 0.341630502, 25694, 23170, 5180, 16697, 1672, 0.061097712, 65000, 50000, 75000, 18314, 4440, 972)]"
      ]
     },
     "execution_count": 2,
     "metadata": {},
     "output_type": "execute_result"
    }
   ],
   "source": [
    "%%sql\n",
    "\n",
    "SELECT *\n",
    "FROM recent_grads\n",
    "LIMIT 5;"
   ]
  },
  {
   "cell_type": "code",
   "execution_count": null,
   "metadata": {
    "vscode": {
     "languageId": "sql"
    }
   },
   "outputs": [],
   "source": []
  }
 ],
 "metadata": {
  "kernelspec": {
   "display_name": "Python 3",
   "language": "python",
   "name": "python3"
  },
  "language_info": {
   "codemirror_mode": {
    "name": "ipython",
    "version": 3
   },
   "file_extension": ".py",
   "mimetype": "text/x-python",
   "name": "python",
   "nbconvert_exporter": "python",
   "pygments_lexer": "ipython3",
   "version": "3.10.6"
  },
  "orig_nbformat": 4
 },
 "nbformat": 4,
 "nbformat_minor": 2
}
