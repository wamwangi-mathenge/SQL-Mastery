{
 "cells": [
  {
   "cell_type": "markdown",
   "metadata": {},
   "source": [
    "# <span style=\"color:#E600E6\">Introduction to SQL Queries</span>\n",
    "* Querying is the process of retrieving information stored in a database.\n",
    "* Querying utilises the **SELECT** clause.\n",
    "* The data returned is stored in a result table, called the **result-set**."
   ]
  },
  {
   "cell_type": "markdown",
   "metadata": {},
   "source": [
    "In this lesson we'll use the [data behind the story The Economic Guide To Picking A College Major](https://github.com/fivethirtyeight/data/tree/master/college-majors)."
   ]
  },
  {
   "cell_type": "code",
   "execution_count": 2,
   "metadata": {},
   "outputs": [],
   "source": [
    "%%capture\n",
    "%load_ext sql\n",
    "%sql sqlite:///Jobs.db"
   ]
  },
  {
   "cell_type": "markdown",
   "metadata": {},
   "source": [
    "### <span style=\"color:#E600E6\">SELECT</span>"
   ]
  },
  {
   "cell_type": "code",
   "execution_count": 15,
   "metadata": {
    "vscode": {
     "languageId": "sql"
    }
   },
   "outputs": [
    {
     "name": "stdout",
     "output_type": "stream",
     "text": [
      "   sqlite:///Jobs\n",
      " * sqlite:///Jobs.db\n",
      "Done.\n"
     ]
    },
    {
     "data": {
      "text/html": [
       "<table>\n",
       "    <thead>\n",
       "        <tr>\n",
       "            <th>index</th>\n",
       "            <th>Rank</th>\n",
       "            <th>Major_code</th>\n",
       "            <th>Major</th>\n",
       "            <th>Major_category</th>\n",
       "            <th>Total</th>\n",
       "            <th>Sample_size</th>\n",
       "            <th>Men</th>\n",
       "            <th>Women</th>\n",
       "            <th>ShareWomen</th>\n",
       "            <th>Employed</th>\n",
       "            <th>Full_time</th>\n",
       "            <th>Part_time</th>\n",
       "            <th>Full_time_year_round</th>\n",
       "            <th>Unemployed</th>\n",
       "            <th>Unemployment_rate</th>\n",
       "            <th>Median</th>\n",
       "            <th>P25th</th>\n",
       "            <th>P75th</th>\n",
       "            <th>College_jobs</th>\n",
       "            <th>Non_college_jobs</th>\n",
       "            <th>Low_wage_jobs</th>\n",
       "        </tr>\n",
       "    </thead>\n",
       "    <tbody>\n",
       "        <tr>\n",
       "            <td>0</td>\n",
       "            <td>1</td>\n",
       "            <td>2419</td>\n",
       "            <td>PETROLEUM ENGINEERING</td>\n",
       "            <td>Engineering</td>\n",
       "            <td>2339</td>\n",
       "            <td>36</td>\n",
       "            <td>2057</td>\n",
       "            <td>282</td>\n",
       "            <td>0.120564344</td>\n",
       "            <td>1976</td>\n",
       "            <td>1849</td>\n",
       "            <td>270</td>\n",
       "            <td>1207</td>\n",
       "            <td>37</td>\n",
       "            <td>0.018380527</td>\n",
       "            <td>110000</td>\n",
       "            <td>95000</td>\n",
       "            <td>125000</td>\n",
       "            <td>1534</td>\n",
       "            <td>364</td>\n",
       "            <td>193</td>\n",
       "        </tr>\n",
       "        <tr>\n",
       "            <td>1</td>\n",
       "            <td>2</td>\n",
       "            <td>2416</td>\n",
       "            <td>MINING AND MINERAL ENGINEERING</td>\n",
       "            <td>Engineering</td>\n",
       "            <td>756</td>\n",
       "            <td>7</td>\n",
       "            <td>679</td>\n",
       "            <td>77</td>\n",
       "            <td>0.10185185199999999</td>\n",
       "            <td>640</td>\n",
       "            <td>556</td>\n",
       "            <td>170</td>\n",
       "            <td>388</td>\n",
       "            <td>85</td>\n",
       "            <td>0.117241379</td>\n",
       "            <td>75000</td>\n",
       "            <td>55000</td>\n",
       "            <td>90000</td>\n",
       "            <td>350</td>\n",
       "            <td>257</td>\n",
       "            <td>50</td>\n",
       "        </tr>\n",
       "        <tr>\n",
       "            <td>2</td>\n",
       "            <td>3</td>\n",
       "            <td>2415</td>\n",
       "            <td>METALLURGICAL ENGINEERING</td>\n",
       "            <td>Engineering</td>\n",
       "            <td>856</td>\n",
       "            <td>3</td>\n",
       "            <td>725</td>\n",
       "            <td>131</td>\n",
       "            <td>0.153037383</td>\n",
       "            <td>648</td>\n",
       "            <td>558</td>\n",
       "            <td>133</td>\n",
       "            <td>340</td>\n",
       "            <td>16</td>\n",
       "            <td>0.024096386</td>\n",
       "            <td>73000</td>\n",
       "            <td>50000</td>\n",
       "            <td>105000</td>\n",
       "            <td>456</td>\n",
       "            <td>176</td>\n",
       "            <td>0</td>\n",
       "        </tr>\n",
       "        <tr>\n",
       "            <td>3</td>\n",
       "            <td>4</td>\n",
       "            <td>2417</td>\n",
       "            <td>NAVAL ARCHITECTURE AND MARINE ENGINEERING</td>\n",
       "            <td>Engineering</td>\n",
       "            <td>1258</td>\n",
       "            <td>16</td>\n",
       "            <td>1123</td>\n",
       "            <td>135</td>\n",
       "            <td>0.107313196</td>\n",
       "            <td>758</td>\n",
       "            <td>1069</td>\n",
       "            <td>150</td>\n",
       "            <td>692</td>\n",
       "            <td>40</td>\n",
       "            <td>0.050125313</td>\n",
       "            <td>70000</td>\n",
       "            <td>43000</td>\n",
       "            <td>80000</td>\n",
       "            <td>529</td>\n",
       "            <td>102</td>\n",
       "            <td>0</td>\n",
       "        </tr>\n",
       "        <tr>\n",
       "            <td>4</td>\n",
       "            <td>5</td>\n",
       "            <td>2405</td>\n",
       "            <td>CHEMICAL ENGINEERING</td>\n",
       "            <td>Engineering</td>\n",
       "            <td>32260</td>\n",
       "            <td>289</td>\n",
       "            <td>21239</td>\n",
       "            <td>11021</td>\n",
       "            <td>0.341630502</td>\n",
       "            <td>25694</td>\n",
       "            <td>23170</td>\n",
       "            <td>5180</td>\n",
       "            <td>16697</td>\n",
       "            <td>1672</td>\n",
       "            <td>0.061097712</td>\n",
       "            <td>65000</td>\n",
       "            <td>50000</td>\n",
       "            <td>75000</td>\n",
       "            <td>18314</td>\n",
       "            <td>4440</td>\n",
       "            <td>972</td>\n",
       "        </tr>\n",
       "        <tr>\n",
       "            <td>5</td>\n",
       "            <td>6</td>\n",
       "            <td>2418</td>\n",
       "            <td>NUCLEAR ENGINEERING</td>\n",
       "            <td>Engineering</td>\n",
       "            <td>2573</td>\n",
       "            <td>17</td>\n",
       "            <td>2200</td>\n",
       "            <td>373</td>\n",
       "            <td>0.144966965</td>\n",
       "            <td>1857</td>\n",
       "            <td>2038</td>\n",
       "            <td>264</td>\n",
       "            <td>1449</td>\n",
       "            <td>400</td>\n",
       "            <td>0.177226407</td>\n",
       "            <td>65000</td>\n",
       "            <td>50000</td>\n",
       "            <td>102000</td>\n",
       "            <td>1142</td>\n",
       "            <td>657</td>\n",
       "            <td>244</td>\n",
       "        </tr>\n",
       "        <tr>\n",
       "            <td>6</td>\n",
       "            <td>7</td>\n",
       "            <td>6202</td>\n",
       "            <td>ACTUARIAL SCIENCE</td>\n",
       "            <td>Business</td>\n",
       "            <td>3777</td>\n",
       "            <td>51</td>\n",
       "            <td>832</td>\n",
       "            <td>960</td>\n",
       "            <td>0.535714286</td>\n",
       "            <td>2912</td>\n",
       "            <td>2924</td>\n",
       "            <td>296</td>\n",
       "            <td>2482</td>\n",
       "            <td>308</td>\n",
       "            <td>0.095652174</td>\n",
       "            <td>62000</td>\n",
       "            <td>53000</td>\n",
       "            <td>72000</td>\n",
       "            <td>1768</td>\n",
       "            <td>314</td>\n",
       "            <td>259</td>\n",
       "        </tr>\n",
       "        <tr>\n",
       "            <td>7</td>\n",
       "            <td>8</td>\n",
       "            <td>5001</td>\n",
       "            <td>ASTRONOMY AND ASTROPHYSICS</td>\n",
       "            <td>Physical Sciences</td>\n",
       "            <td>1792</td>\n",
       "            <td>10</td>\n",
       "            <td>2110</td>\n",
       "            <td>1667</td>\n",
       "            <td>0.44135557299999995</td>\n",
       "            <td>1526</td>\n",
       "            <td>1085</td>\n",
       "            <td>553</td>\n",
       "            <td>827</td>\n",
       "            <td>33</td>\n",
       "            <td>0.021167415</td>\n",
       "            <td>62000</td>\n",
       "            <td>31500</td>\n",
       "            <td>109000</td>\n",
       "            <td>972</td>\n",
       "            <td>500</td>\n",
       "            <td>220</td>\n",
       "        </tr>\n",
       "        <tr>\n",
       "            <td>8</td>\n",
       "            <td>9</td>\n",
       "            <td>2414</td>\n",
       "            <td>MECHANICAL ENGINEERING</td>\n",
       "            <td>Engineering</td>\n",
       "            <td>91227</td>\n",
       "            <td>1029</td>\n",
       "            <td>12953</td>\n",
       "            <td>2105</td>\n",
       "            <td>0.139792801</td>\n",
       "            <td>76442</td>\n",
       "            <td>71298</td>\n",
       "            <td>13101</td>\n",
       "            <td>54639</td>\n",
       "            <td>4650</td>\n",
       "            <td>0.057342277999999997</td>\n",
       "            <td>60000</td>\n",
       "            <td>48000</td>\n",
       "            <td>70000</td>\n",
       "            <td>52844</td>\n",
       "            <td>16384</td>\n",
       "            <td>3253</td>\n",
       "        </tr>\n",
       "        <tr>\n",
       "            <td>9</td>\n",
       "            <td>10</td>\n",
       "            <td>2408</td>\n",
       "            <td>ELECTRICAL ENGINEERING</td>\n",
       "            <td>Engineering</td>\n",
       "            <td>81527</td>\n",
       "            <td>631</td>\n",
       "            <td>8407</td>\n",
       "            <td>6548</td>\n",
       "            <td>0.437846874</td>\n",
       "            <td>61928</td>\n",
       "            <td>55450</td>\n",
       "            <td>12695</td>\n",
       "            <td>41413</td>\n",
       "            <td>3895</td>\n",
       "            <td>0.059173845</td>\n",
       "            <td>60000</td>\n",
       "            <td>45000</td>\n",
       "            <td>72000</td>\n",
       "            <td>45829</td>\n",
       "            <td>10874</td>\n",
       "            <td>3170</td>\n",
       "        </tr>\n",
       "    </tbody>\n",
       "</table>"
      ],
      "text/plain": [
       "[(0, 1, 2419, 'PETROLEUM ENGINEERING', 'Engineering', 2339, 36, 2057, 282, 0.120564344, 1976, 1849, 270, 1207, 37, 0.018380527, 110000, 95000, 125000, 1534, 364, 193),\n",
       " (1, 2, 2416, 'MINING AND MINERAL ENGINEERING', 'Engineering', 756, 7, 679, 77, 0.10185185199999999, 640, 556, 170, 388, 85, 0.117241379, 75000, 55000, 90000, 350, 257, 50),\n",
       " (2, 3, 2415, 'METALLURGICAL ENGINEERING', 'Engineering', 856, 3, 725, 131, 0.153037383, 648, 558, 133, 340, 16, 0.024096386, 73000, 50000, 105000, 456, 176, 0),\n",
       " (3, 4, 2417, 'NAVAL ARCHITECTURE AND MARINE ENGINEERING', 'Engineering', 1258, 16, 1123, 135, 0.107313196, 758, 1069, 150, 692, 40, 0.050125313, 70000, 43000, 80000, 529, 102, 0),\n",
       " (4, 5, 2405, 'CHEMICAL ENGINEERING', 'Engineering', 32260, 289, 21239, 11021, 0.341630502, 25694, 23170, 5180, 16697, 1672, 0.061097712, 65000, 50000, 75000, 18314, 4440, 972),\n",
       " (5, 6, 2418, 'NUCLEAR ENGINEERING', 'Engineering', 2573, 17, 2200, 373, 0.144966965, 1857, 2038, 264, 1449, 400, 0.177226407, 65000, 50000, 102000, 1142, 657, 244),\n",
       " (6, 7, 6202, 'ACTUARIAL SCIENCE', 'Business', 3777, 51, 832, 960, 0.535714286, 2912, 2924, 296, 2482, 308, 0.095652174, 62000, 53000, 72000, 1768, 314, 259),\n",
       " (7, 8, 5001, 'ASTRONOMY AND ASTROPHYSICS', 'Physical Sciences', 1792, 10, 2110, 1667, 0.44135557299999995, 1526, 1085, 553, 827, 33, 0.021167415, 62000, 31500, 109000, 972, 500, 220),\n",
       " (8, 9, 2414, 'MECHANICAL ENGINEERING', 'Engineering', 91227, 1029, 12953, 2105, 0.139792801, 76442, 71298, 13101, 54639, 4650, 0.057342277999999997, 60000, 48000, 70000, 52844, 16384, 3253),\n",
       " (9, 10, 2408, 'ELECTRICAL ENGINEERING', 'Engineering', 81527, 631, 8407, 6548, 0.437846874, 61928, 55450, 12695, 41413, 3895, 0.059173845, 60000, 45000, 72000, 45829, 10874, 3170)]"
      ]
     },
     "execution_count": 15,
     "metadata": {},
     "output_type": "execute_result"
    }
   ],
   "source": [
    "%%sql\n",
    "\n",
    "SELECT *\n",
    "    FROM recent_grads;"
   ]
  },
  {
   "cell_type": "markdown",
   "metadata": {},
   "source": [
    "Let's breakdown the query above:\n",
    "\n",
    "* **SELECT \\*** - Selects all the columns\n",
    "* **FROM recent_grads** - Specifies the database table we want to select from.\n",
    "\n",
    "From the query, we also see that the query is written in two separate lines and the second line is indented. This is just a SQL **convention**. We could write the whole query in one line and we would still get the expected results.\n",
    "* [See more SQL conventions](https://www.sqlstyle.guide/)"
   ]
  },
  {
   "cell_type": "markdown",
   "metadata": {},
   "source": [
    "![Select](./images/select.svg)"
   ]
  },
  {
   "cell_type": "markdown",
   "metadata": {},
   "source": [
    "### <span style=\"color:#E600E6\">LIMIT</span>\n",
    "- LIMIT restricts the number of rows displayed in the result set.\n",
    "- Saves space on the screen and makes queries run faster.\n",
    "- LIMIT always goes at the very end of the query."
   ]
  },
  {
   "cell_type": "code",
   "execution_count": 16,
   "metadata": {},
   "outputs": [
    {
     "name": "stdout",
     "output_type": "stream",
     "text": [
      "   sqlite:///Jobs\n",
      " * sqlite:///Jobs.db\n",
      "Done.\n"
     ]
    },
    {
     "data": {
      "text/html": [
       "<table>\n",
       "    <thead>\n",
       "        <tr>\n",
       "            <th>index</th>\n",
       "            <th>Rank</th>\n",
       "            <th>Major_code</th>\n",
       "            <th>Major</th>\n",
       "            <th>Major_category</th>\n",
       "            <th>Total</th>\n",
       "            <th>Sample_size</th>\n",
       "            <th>Men</th>\n",
       "            <th>Women</th>\n",
       "            <th>ShareWomen</th>\n",
       "            <th>Employed</th>\n",
       "            <th>Full_time</th>\n",
       "            <th>Part_time</th>\n",
       "            <th>Full_time_year_round</th>\n",
       "            <th>Unemployed</th>\n",
       "            <th>Unemployment_rate</th>\n",
       "            <th>Median</th>\n",
       "            <th>P25th</th>\n",
       "            <th>P75th</th>\n",
       "            <th>College_jobs</th>\n",
       "            <th>Non_college_jobs</th>\n",
       "            <th>Low_wage_jobs</th>\n",
       "        </tr>\n",
       "    </thead>\n",
       "    <tbody>\n",
       "        <tr>\n",
       "            <td>0</td>\n",
       "            <td>1</td>\n",
       "            <td>2419</td>\n",
       "            <td>PETROLEUM ENGINEERING</td>\n",
       "            <td>Engineering</td>\n",
       "            <td>2339</td>\n",
       "            <td>36</td>\n",
       "            <td>2057</td>\n",
       "            <td>282</td>\n",
       "            <td>0.120564344</td>\n",
       "            <td>1976</td>\n",
       "            <td>1849</td>\n",
       "            <td>270</td>\n",
       "            <td>1207</td>\n",
       "            <td>37</td>\n",
       "            <td>0.018380527</td>\n",
       "            <td>110000</td>\n",
       "            <td>95000</td>\n",
       "            <td>125000</td>\n",
       "            <td>1534</td>\n",
       "            <td>364</td>\n",
       "            <td>193</td>\n",
       "        </tr>\n",
       "        <tr>\n",
       "            <td>1</td>\n",
       "            <td>2</td>\n",
       "            <td>2416</td>\n",
       "            <td>MINING AND MINERAL ENGINEERING</td>\n",
       "            <td>Engineering</td>\n",
       "            <td>756</td>\n",
       "            <td>7</td>\n",
       "            <td>679</td>\n",
       "            <td>77</td>\n",
       "            <td>0.10185185199999999</td>\n",
       "            <td>640</td>\n",
       "            <td>556</td>\n",
       "            <td>170</td>\n",
       "            <td>388</td>\n",
       "            <td>85</td>\n",
       "            <td>0.117241379</td>\n",
       "            <td>75000</td>\n",
       "            <td>55000</td>\n",
       "            <td>90000</td>\n",
       "            <td>350</td>\n",
       "            <td>257</td>\n",
       "            <td>50</td>\n",
       "        </tr>\n",
       "        <tr>\n",
       "            <td>2</td>\n",
       "            <td>3</td>\n",
       "            <td>2415</td>\n",
       "            <td>METALLURGICAL ENGINEERING</td>\n",
       "            <td>Engineering</td>\n",
       "            <td>856</td>\n",
       "            <td>3</td>\n",
       "            <td>725</td>\n",
       "            <td>131</td>\n",
       "            <td>0.153037383</td>\n",
       "            <td>648</td>\n",
       "            <td>558</td>\n",
       "            <td>133</td>\n",
       "            <td>340</td>\n",
       "            <td>16</td>\n",
       "            <td>0.024096386</td>\n",
       "            <td>73000</td>\n",
       "            <td>50000</td>\n",
       "            <td>105000</td>\n",
       "            <td>456</td>\n",
       "            <td>176</td>\n",
       "            <td>0</td>\n",
       "        </tr>\n",
       "        <tr>\n",
       "            <td>3</td>\n",
       "            <td>4</td>\n",
       "            <td>2417</td>\n",
       "            <td>NAVAL ARCHITECTURE AND MARINE ENGINEERING</td>\n",
       "            <td>Engineering</td>\n",
       "            <td>1258</td>\n",
       "            <td>16</td>\n",
       "            <td>1123</td>\n",
       "            <td>135</td>\n",
       "            <td>0.107313196</td>\n",
       "            <td>758</td>\n",
       "            <td>1069</td>\n",
       "            <td>150</td>\n",
       "            <td>692</td>\n",
       "            <td>40</td>\n",
       "            <td>0.050125313</td>\n",
       "            <td>70000</td>\n",
       "            <td>43000</td>\n",
       "            <td>80000</td>\n",
       "            <td>529</td>\n",
       "            <td>102</td>\n",
       "            <td>0</td>\n",
       "        </tr>\n",
       "        <tr>\n",
       "            <td>4</td>\n",
       "            <td>5</td>\n",
       "            <td>2405</td>\n",
       "            <td>CHEMICAL ENGINEERING</td>\n",
       "            <td>Engineering</td>\n",
       "            <td>32260</td>\n",
       "            <td>289</td>\n",
       "            <td>21239</td>\n",
       "            <td>11021</td>\n",
       "            <td>0.341630502</td>\n",
       "            <td>25694</td>\n",
       "            <td>23170</td>\n",
       "            <td>5180</td>\n",
       "            <td>16697</td>\n",
       "            <td>1672</td>\n",
       "            <td>0.061097712</td>\n",
       "            <td>65000</td>\n",
       "            <td>50000</td>\n",
       "            <td>75000</td>\n",
       "            <td>18314</td>\n",
       "            <td>4440</td>\n",
       "            <td>972</td>\n",
       "        </tr>\n",
       "    </tbody>\n",
       "</table>"
      ],
      "text/plain": [
       "[(0, 1, 2419, 'PETROLEUM ENGINEERING', 'Engineering', 2339, 36, 2057, 282, 0.120564344, 1976, 1849, 270, 1207, 37, 0.018380527, 110000, 95000, 125000, 1534, 364, 193),\n",
       " (1, 2, 2416, 'MINING AND MINERAL ENGINEERING', 'Engineering', 756, 7, 679, 77, 0.10185185199999999, 640, 556, 170, 388, 85, 0.117241379, 75000, 55000, 90000, 350, 257, 50),\n",
       " (2, 3, 2415, 'METALLURGICAL ENGINEERING', 'Engineering', 856, 3, 725, 131, 0.153037383, 648, 558, 133, 340, 16, 0.024096386, 73000, 50000, 105000, 456, 176, 0),\n",
       " (3, 4, 2417, 'NAVAL ARCHITECTURE AND MARINE ENGINEERING', 'Engineering', 1258, 16, 1123, 135, 0.107313196, 758, 1069, 150, 692, 40, 0.050125313, 70000, 43000, 80000, 529, 102, 0),\n",
       " (4, 5, 2405, 'CHEMICAL ENGINEERING', 'Engineering', 32260, 289, 21239, 11021, 0.341630502, 25694, 23170, 5180, 16697, 1672, 0.061097712, 65000, 50000, 75000, 18314, 4440, 972)]"
      ]
     },
     "execution_count": 16,
     "metadata": {},
     "output_type": "execute_result"
    }
   ],
   "source": [
    "%%sql\n",
    "\n",
    "SELECT *\n",
    "    FROM recent_grads\n",
    "  LIMIT 5"
   ]
  },
  {
   "cell_type": "code",
   "execution_count": null,
   "metadata": {},
   "outputs": [],
   "source": []
  },
  {
   "cell_type": "markdown",
   "metadata": {},
   "source": [
    "### <span style=\"color:#E600E6\">SELECTING INDIVIDUAL COLUMNS</span>\n",
    "We can data in specific columns using the SELECT statement."
   ]
  },
  {
   "cell_type": "code",
   "execution_count": 20,
   "metadata": {
    "vscode": {
     "languageId": "sql"
    }
   },
   "outputs": [
    {
     "name": "stdout",
     "output_type": "stream",
     "text": [
      "   sqlite:///Jobs\n",
      " * sqlite:///Jobs.db\n",
      "Done.\n"
     ]
    },
    {
     "data": {
      "text/html": [
       "<table>\n",
       "    <thead>\n",
       "        <tr>\n",
       "            <th>Total</th>\n",
       "            <th>Major</th>\n",
       "        </tr>\n",
       "    </thead>\n",
       "    <tbody>\n",
       "        <tr>\n",
       "            <td>2339</td>\n",
       "            <td>PETROLEUM ENGINEERING</td>\n",
       "        </tr>\n",
       "        <tr>\n",
       "            <td>756</td>\n",
       "            <td>MINING AND MINERAL ENGINEERING</td>\n",
       "        </tr>\n",
       "        <tr>\n",
       "            <td>856</td>\n",
       "            <td>METALLURGICAL ENGINEERING</td>\n",
       "        </tr>\n",
       "        <tr>\n",
       "            <td>1258</td>\n",
       "            <td>NAVAL ARCHITECTURE AND MARINE ENGINEERING</td>\n",
       "        </tr>\n",
       "        <tr>\n",
       "            <td>32260</td>\n",
       "            <td>CHEMICAL ENGINEERING</td>\n",
       "        </tr>\n",
       "    </tbody>\n",
       "</table>"
      ],
      "text/plain": [
       "[(2339, 'PETROLEUM ENGINEERING'),\n",
       " (756, 'MINING AND MINERAL ENGINEERING'),\n",
       " (856, 'METALLURGICAL ENGINEERING'),\n",
       " (1258, 'NAVAL ARCHITECTURE AND MARINE ENGINEERING'),\n",
       " (32260, 'CHEMICAL ENGINEERING')]"
      ]
     },
     "execution_count": 20,
     "metadata": {},
     "output_type": "execute_result"
    }
   ],
   "source": [
    "%%sql\n",
    "SELECT Total, Major\n",
    "    FROM recent_grads\n",
    "  LIMIT 5;"
   ]
  },
  {
   "cell_type": "markdown",
   "metadata": {},
   "source": [
    "* To select multiple columns, we use the column names separates by commas in the SELECT statement.\n",
    "* Notice that there is no comma after the last column — when SQL finds a comma, it expects a column to follow, so we need to make sure we don't include a comma after the last column.\n",
    "* The columns displayed in the result set are ordered in the same order they are defined in the SELECT."
   ]
  },
  {
   "cell_type": "code",
   "execution_count": null,
   "metadata": {},
   "outputs": [],
   "source": []
  },
  {
   "cell_type": "markdown",
   "metadata": {},
   "source": [
    "###  <span style=\"color:#E600E6\">Filtering Rows with WHERE</span>\n",
    "- WHERE filters the result set to include only the rows where the condition is **True** or rows that meet a certain condition.\n",
    "- <span style=\"color:green\">Example: We may want to get Major and Major_category with less than 1000 people.</span>"
   ]
  },
  {
   "cell_type": "code",
   "execution_count": 22,
   "metadata": {
    "vscode": {
     "languageId": "sql"
    }
   },
   "outputs": [
    {
     "name": "stdout",
     "output_type": "stream",
     "text": [
      "   sqlite:///Jobs\n",
      " * sqlite:///Jobs.db\n",
      "Done.\n"
     ]
    },
    {
     "data": {
      "text/html": [
       "<table>\n",
       "    <thead>\n",
       "        <tr>\n",
       "            <th>Major</th>\n",
       "            <th>Major_category</th>\n",
       "        </tr>\n",
       "    </thead>\n",
       "    <tbody>\n",
       "        <tr>\n",
       "            <td>MINING AND MINERAL ENGINEERING</td>\n",
       "            <td>Engineering</td>\n",
       "        </tr>\n",
       "        <tr>\n",
       "            <td>METALLURGICAL ENGINEERING</td>\n",
       "            <td>Engineering</td>\n",
       "        </tr>\n",
       "        <tr>\n",
       "            <td>GEOLOGICAL AND GEOPHYSICAL ENGINEERING</td>\n",
       "            <td>Engineering</td>\n",
       "        </tr>\n",
       "        <tr>\n",
       "            <td>MATHEMATICS AND COMPUTER SCIENCE</td>\n",
       "            <td>Computers &amp; Mathematics</td>\n",
       "        </tr>\n",
       "        <tr>\n",
       "            <td>SCHOOL STUDENT COUNSELING</td>\n",
       "            <td>Education</td>\n",
       "        </tr>\n",
       "        <tr>\n",
       "            <td>MILITARY TECHNOLOGIES</td>\n",
       "            <td>Industrial Arts &amp; Consumer Services</td>\n",
       "        </tr>\n",
       "        <tr>\n",
       "            <td>SOIL SCIENCE</td>\n",
       "            <td>Agriculture &amp; Natural Resources</td>\n",
       "        </tr>\n",
       "        <tr>\n",
       "            <td>EDUCATIONAL ADMINISTRATION AND SUPERVISION</td>\n",
       "            <td>Education</td>\n",
       "        </tr>\n",
       "    </tbody>\n",
       "</table>"
      ],
      "text/plain": [
       "[('MINING AND MINERAL ENGINEERING', 'Engineering'),\n",
       " ('METALLURGICAL ENGINEERING', 'Engineering'),\n",
       " ('GEOLOGICAL AND GEOPHYSICAL ENGINEERING', 'Engineering'),\n",
       " ('MATHEMATICS AND COMPUTER SCIENCE', 'Computers & Mathematics'),\n",
       " ('SCHOOL STUDENT COUNSELING', 'Education'),\n",
       " ('MILITARY TECHNOLOGIES', 'Industrial Arts & Consumer Services'),\n",
       " ('SOIL SCIENCE', 'Agriculture & Natural Resources'),\n",
       " ('EDUCATIONAL ADMINISTRATION AND SUPERVISION', 'Education')]"
      ]
     },
     "execution_count": 22,
     "metadata": {},
     "output_type": "execute_result"
    }
   ],
   "source": [
    "%%sql\n",
    "SELECT Major, Major_category\n",
    "    FROM recent_grads\n",
    "  WHERE Total < 1000;"
   ]
  },
  {
   "cell_type": "code",
   "execution_count": null,
   "metadata": {
    "vscode": {
     "languageId": "sql"
    }
   },
   "outputs": [],
   "source": []
  },
  {
   "cell_type": "markdown",
   "metadata": {},
   "source": [
    "##### Here are the comparison operators we can use with WHERE clause to filter our results:\n",
    "\n",
    "\n",
    "* **Less than: <**\n",
    "* **Greater than: >**\n",
    "* **Less than or equal to: <=**\n",
    "* **Greater than or equal to: >=**\n",
    "* **Equal to: =**\n",
    "* **Not equal to: != or <>**"
   ]
  },
  {
   "cell_type": "code",
   "execution_count": null,
   "metadata": {},
   "outputs": [],
   "source": []
  },
  {
   "cell_type": "markdown",
   "metadata": {},
   "source": [
    "#### Multiple Filter Criteria\n",
    "- We can use logical operators — AND, OR to combine multiple filter criteria.\n",
    "- <span style=\"color:green\">Example: Determine which **Biology & Life Science** majors had a **majority of male students**, we specify two filtering criteria:</span>"
   ]
  },
  {
   "cell_type": "code",
   "execution_count": 4,
   "metadata": {
    "vscode": {
     "languageId": "sql"
    }
   },
   "outputs": [
    {
     "name": "stdout",
     "output_type": "stream",
     "text": [
      " * sqlite:///Jobs.db\n",
      "Done.\n"
     ]
    },
    {
     "data": {
      "text/html": [
       "<table>\n",
       "    <thead>\n",
       "        <tr>\n",
       "            <th>Major</th>\n",
       "        </tr>\n",
       "    </thead>\n",
       "    <tbody>\n",
       "        <tr>\n",
       "            <td>MOLECULAR BIOLOGY</td>\n",
       "        </tr>\n",
       "        <tr>\n",
       "            <td>NEUROSCIENCE</td>\n",
       "        </tr>\n",
       "    </tbody>\n",
       "</table>"
      ],
      "text/plain": [
       "[('MOLECULAR BIOLOGY',), ('NEUROSCIENCE',)]"
      ]
     },
     "execution_count": 4,
     "metadata": {},
     "output_type": "execute_result"
    }
   ],
   "source": [
    "%%sql\n",
    "SELECT  Major\n",
    "    FROM recent_grads\n",
    "  WHERE Major_category = \"Biology & Life Science\" AND ShareWomen < 0.5;"
   ]
  },
  {
   "cell_type": "markdown",
   "metadata": {},
   "source": [
    "* When using the **AND** operator, all the filtering conditions MUST evaluate to True for a record to appear in the result set.\n",
    "* The **OR** operator is used in the same way but for OR, any record that meets even one of the filtering conditions only will appear in the result set.\n",
    "* Sometimes you can combine both AND & OR to get your desired results.\n",
    "* <span style=\"color:green\">Example Select the first 10 majors where the median salary is greater than 10000 **OR** has more men than women.</span>"
   ]
  },
  {
   "cell_type": "code",
   "execution_count": 28,
   "metadata": {
    "vscode": {
     "languageId": "sql"
    }
   },
   "outputs": [
    {
     "name": "stdout",
     "output_type": "stream",
     "text": [
      "   sqlite:///Jobs\n",
      " * sqlite:///Jobs.db\n",
      "Done.\n"
     ]
    },
    {
     "data": {
      "text/html": [
       "<table>\n",
       "    <thead>\n",
       "        <tr>\n",
       "            <th>Major</th>\n",
       "            <th>ShareWomen</th>\n",
       "            <th>Median</th>\n",
       "        </tr>\n",
       "    </thead>\n",
       "    <tbody>\n",
       "        <tr>\n",
       "            <td>PETROLEUM ENGINEERING</td>\n",
       "            <td>0.120564344</td>\n",
       "            <td>110000</td>\n",
       "        </tr>\n",
       "        <tr>\n",
       "            <td>MINING AND MINERAL ENGINEERING</td>\n",
       "            <td>0.10185185199999999</td>\n",
       "            <td>75000</td>\n",
       "        </tr>\n",
       "        <tr>\n",
       "            <td>METALLURGICAL ENGINEERING</td>\n",
       "            <td>0.153037383</td>\n",
       "            <td>73000</td>\n",
       "        </tr>\n",
       "        <tr>\n",
       "            <td>NAVAL ARCHITECTURE AND MARINE ENGINEERING</td>\n",
       "            <td>0.107313196</td>\n",
       "            <td>70000</td>\n",
       "        </tr>\n",
       "        <tr>\n",
       "            <td>CHEMICAL ENGINEERING</td>\n",
       "            <td>0.341630502</td>\n",
       "            <td>65000</td>\n",
       "        </tr>\n",
       "        <tr>\n",
       "            <td>NUCLEAR ENGINEERING</td>\n",
       "            <td>0.144966965</td>\n",
       "            <td>65000</td>\n",
       "        </tr>\n",
       "        <tr>\n",
       "            <td>ACTUARIAL SCIENCE</td>\n",
       "            <td>0.535714286</td>\n",
       "            <td>62000</td>\n",
       "        </tr>\n",
       "        <tr>\n",
       "            <td>ASTRONOMY AND ASTROPHYSICS</td>\n",
       "            <td>0.44135557299999995</td>\n",
       "            <td>62000</td>\n",
       "        </tr>\n",
       "        <tr>\n",
       "            <td>MECHANICAL ENGINEERING</td>\n",
       "            <td>0.139792801</td>\n",
       "            <td>60000</td>\n",
       "        </tr>\n",
       "        <tr>\n",
       "            <td>ELECTRICAL ENGINEERING</td>\n",
       "            <td>0.437846874</td>\n",
       "            <td>60000</td>\n",
       "        </tr>\n",
       "    </tbody>\n",
       "</table>"
      ],
      "text/plain": [
       "[('PETROLEUM ENGINEERING', 0.120564344, 110000),\n",
       " ('MINING AND MINERAL ENGINEERING', 0.10185185199999999, 75000),\n",
       " ('METALLURGICAL ENGINEERING', 0.153037383, 73000),\n",
       " ('NAVAL ARCHITECTURE AND MARINE ENGINEERING', 0.107313196, 70000),\n",
       " ('CHEMICAL ENGINEERING', 0.341630502, 65000),\n",
       " ('NUCLEAR ENGINEERING', 0.144966965, 65000),\n",
       " ('ACTUARIAL SCIENCE', 0.535714286, 62000),\n",
       " ('ASTRONOMY AND ASTROPHYSICS', 0.44135557299999995, 62000),\n",
       " ('MECHANICAL ENGINEERING', 0.139792801, 60000),\n",
       " ('ELECTRICAL ENGINEERING', 0.437846874, 60000)]"
      ]
     },
     "execution_count": 28,
     "metadata": {},
     "output_type": "execute_result"
    }
   ],
   "source": [
    "%%sql\n",
    "SELECT Major, ShareWomen, Median\n",
    "FROM recent_grads\n",
    "WHERE Median > 10000 OR ShareWomen < 0.5\n",
    "LIMIT 10;"
   ]
  },
  {
   "cell_type": "code",
   "execution_count": null,
   "metadata": {
    "vscode": {
     "languageId": "sql"
    }
   },
   "outputs": [],
   "source": []
  },
  {
   "cell_type": "markdown",
   "metadata": {},
   "source": [
    "###  <span style=\"color:#E600E6\">Ordering Results with ORDER BY</span>\n",
    "- So far the result set has been ordered according to order they were added into the database in.\n",
    "- When you need to take control of the order in the result set, we use the ORDER BY clause.\n",
    "- Sort is done either numerically or alphabetically.\n",
    "- The rows are sorted in ascending rder by default."
   ]
  },
  {
   "cell_type": "code",
   "execution_count": 7,
   "metadata": {},
   "outputs": [
    {
     "name": "stdout",
     "output_type": "stream",
     "text": [
      " * sqlite:///Jobs.db\n",
      "Done.\n"
     ]
    },
    {
     "data": {
      "text/html": [
       "<table>\n",
       "    <thead>\n",
       "        <tr>\n",
       "            <th>Major</th>\n",
       "            <th>Major_category</th>\n",
       "            <th>Unemployed</th>\n",
       "        </tr>\n",
       "    </thead>\n",
       "    <tbody>\n",
       "        <tr>\n",
       "            <td>MATHEMATICS AND COMPUTER SCIENCE</td>\n",
       "            <td>Computers &amp; Mathematics</td>\n",
       "            <td>0</td>\n",
       "        </tr>\n",
       "        <tr>\n",
       "            <td>MILITARY TECHNOLOGIES</td>\n",
       "            <td>Industrial Arts &amp; Consumer Services</td>\n",
       "            <td>0</td>\n",
       "        </tr>\n",
       "        <tr>\n",
       "            <td>BOTANY</td>\n",
       "            <td>Biology &amp; Life Science</td>\n",
       "            <td>0</td>\n",
       "        </tr>\n",
       "        <tr>\n",
       "            <td>SOIL SCIENCE</td>\n",
       "            <td>Agriculture &amp; Natural Resources</td>\n",
       "            <td>0</td>\n",
       "        </tr>\n",
       "        <tr>\n",
       "            <td>EDUCATIONAL ADMINISTRATION AND SUPERVISION</td>\n",
       "            <td>Education</td>\n",
       "            <td>0</td>\n",
       "        </tr>\n",
       "        <tr>\n",
       "            <td>COURT REPORTING</td>\n",
       "            <td>Law &amp; Public Policy</td>\n",
       "            <td>11</td>\n",
       "        </tr>\n",
       "        <tr>\n",
       "            <td>METALLURGICAL ENGINEERING</td>\n",
       "            <td>Engineering</td>\n",
       "            <td>16</td>\n",
       "        </tr>\n",
       "        <tr>\n",
       "            <td>ENGINEERING MECHANICS PHYSICS AND SCIENCE</td>\n",
       "            <td>Engineering</td>\n",
       "            <td>23</td>\n",
       "        </tr>\n",
       "        <tr>\n",
       "            <td>ASTRONOMY AND ASTROPHYSICS</td>\n",
       "            <td>Physical Sciences</td>\n",
       "            <td>33</td>\n",
       "        </tr>\n",
       "        <tr>\n",
       "            <td>SOCIAL PSYCHOLOGY</td>\n",
       "            <td>Psychology &amp; Social Work</td>\n",
       "            <td>33</td>\n",
       "        </tr>\n",
       "    </tbody>\n",
       "</table>"
      ],
      "text/plain": [
       "[('MATHEMATICS AND COMPUTER SCIENCE', 'Computers & Mathematics', 0),\n",
       " ('MILITARY TECHNOLOGIES', 'Industrial Arts & Consumer Services', 0),\n",
       " ('BOTANY', 'Biology & Life Science', 0),\n",
       " ('SOIL SCIENCE', 'Agriculture & Natural Resources', 0),\n",
       " ('EDUCATIONAL ADMINISTRATION AND SUPERVISION', 'Education', 0),\n",
       " ('COURT REPORTING', 'Law & Public Policy', 11),\n",
       " ('METALLURGICAL ENGINEERING', 'Engineering', 16),\n",
       " ('ENGINEERING MECHANICS PHYSICS AND SCIENCE', 'Engineering', 23),\n",
       " ('ASTRONOMY AND ASTROPHYSICS', 'Physical Sciences', 33),\n",
       " ('SOCIAL PSYCHOLOGY', 'Psychology & Social Work', 33)]"
      ]
     },
     "execution_count": 7,
     "metadata": {},
     "output_type": "execute_result"
    }
   ],
   "source": [
    "%%sql\n",
    "SELECT Major, Major_category, Unemployed\n",
    "FROM recent_grads\n",
    "ORDER BY Unemployed\n",
    "LIMIT 10;"
   ]
  },
  {
   "cell_type": "markdown",
   "metadata": {},
   "source": [
    "- Sometimes we want our result set sorted in descending order.\n",
    "- To do this we use the DESC keyword with ORDER BY."
   ]
  },
  {
   "cell_type": "code",
   "execution_count": 8,
   "metadata": {},
   "outputs": [
    {
     "name": "stdout",
     "output_type": "stream",
     "text": [
      " * sqlite:///Jobs.db\n",
      "Done.\n"
     ]
    },
    {
     "data": {
      "text/html": [
       "<table>\n",
       "    <thead>\n",
       "        <tr>\n",
       "            <th>Major</th>\n",
       "            <th>Major_category</th>\n",
       "            <th>Unemployed</th>\n",
       "        </tr>\n",
       "    </thead>\n",
       "    <tbody>\n",
       "        <tr>\n",
       "            <td>PSYCHOLOGY</td>\n",
       "            <td>Psychology &amp; Social Work</td>\n",
       "            <td>28169</td>\n",
       "        </tr>\n",
       "        <tr>\n",
       "            <td>BUSINESS MANAGEMENT AND ADMINISTRATION</td>\n",
       "            <td>Business</td>\n",
       "            <td>21502</td>\n",
       "        </tr>\n",
       "        <tr>\n",
       "            <td>POLITICAL SCIENCE AND GOVERNMENT</td>\n",
       "            <td>Social Science</td>\n",
       "            <td>15022</td>\n",
       "        </tr>\n",
       "        <tr>\n",
       "            <td>GENERAL BUSINESS</td>\n",
       "            <td>Business</td>\n",
       "            <td>14946</td>\n",
       "        </tr>\n",
       "        <tr>\n",
       "            <td>COMMUNICATIONS</td>\n",
       "            <td>Communications &amp; Journalism</td>\n",
       "            <td>14602</td>\n",
       "        </tr>\n",
       "        <tr>\n",
       "            <td>ENGLISH LANGUAGE AND LITERATURE</td>\n",
       "            <td>Humanities &amp; Liberal Arts</td>\n",
       "            <td>14345</td>\n",
       "        </tr>\n",
       "        <tr>\n",
       "            <td>BIOLOGY</td>\n",
       "            <td>Biology &amp; Life Science</td>\n",
       "            <td>13874</td>\n",
       "        </tr>\n",
       "        <tr>\n",
       "            <td>ACCOUNTING</td>\n",
       "            <td>Business</td>\n",
       "            <td>12411</td>\n",
       "        </tr>\n",
       "        <tr>\n",
       "            <td>MARKETING AND MARKETING RESEARCH</td>\n",
       "            <td>Business</td>\n",
       "            <td>11663</td>\n",
       "        </tr>\n",
       "        <tr>\n",
       "            <td>ECONOMICS</td>\n",
       "            <td>Social Science</td>\n",
       "            <td>11452</td>\n",
       "        </tr>\n",
       "    </tbody>\n",
       "</table>"
      ],
      "text/plain": [
       "[('PSYCHOLOGY', 'Psychology & Social Work', 28169),\n",
       " ('BUSINESS MANAGEMENT AND ADMINISTRATION', 'Business', 21502),\n",
       " ('POLITICAL SCIENCE AND GOVERNMENT', 'Social Science', 15022),\n",
       " ('GENERAL BUSINESS', 'Business', 14946),\n",
       " ('COMMUNICATIONS', 'Communications & Journalism', 14602),\n",
       " ('ENGLISH LANGUAGE AND LITERATURE', 'Humanities & Liberal Arts', 14345),\n",
       " ('BIOLOGY', 'Biology & Life Science', 13874),\n",
       " ('ACCOUNTING', 'Business', 12411),\n",
       " ('MARKETING AND MARKETING RESEARCH', 'Business', 11663),\n",
       " ('ECONOMICS', 'Social Science', 11452)]"
      ]
     },
     "execution_count": 8,
     "metadata": {},
     "output_type": "execute_result"
    }
   ],
   "source": [
    "%%sql\n",
    "SELECT Major, Major_category, Unemployed\n",
    "FROM recent_grads\n",
    "ORDER BY Unemployed DESC\n",
    "LIMIT 10;"
   ]
  },
  {
   "attachments": {},
   "cell_type": "markdown",
   "metadata": {},
   "source": [
    "### QN.\n",
    "* Write a query, that returns 3 columns:\n",
    "    * Major\n",
    "    * Major_category\n",
    "    * Unemployment_rate\n",
    "* For records with more females than males.\n",
    "* The result should be ordered by the unemployment_rate column and from the highest to the lowest.\n",
    "\n",
    "# END"
   ]
  }
 ],
 "metadata": {
  "kernelspec": {
   "display_name": "Python 3 (ipykernel)",
   "language": "python",
   "name": "python3"
  },
  "language_info": {
   "codemirror_mode": {
    "name": "ipython",
    "version": 3
   },
   "file_extension": ".py",
   "mimetype": "text/x-python",
   "name": "python",
   "nbconvert_exporter": "python",
   "pygments_lexer": "ipython3",
   "version": "3.10.6"
  }
 },
 "nbformat": 4,
 "nbformat_minor": 2
}
