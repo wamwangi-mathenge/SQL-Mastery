{
 "cells": [
  {
   "attachments": {},
   "cell_type": "markdown",
   "metadata": {},
   "source": [
    "# <span style=\"color:#E600E6\">SUBQUERIES</span>\n",
    "\n",
    "* A subquery is a SQL query that is embedded inside a larger query.\n",
    "* The subquery can be nested inside a SELECT, INSERT, UPDATE, or DELETE statement or inside another subquery.\n",
    "* A subquery is usually added within the WHERE Clause of another SQL SELECT statement."
   ]
  },
  {
   "cell_type": "code",
   "execution_count": 2,
   "metadata": {
    "vscode": {
     "languageId": "sql"
    }
   },
   "outputs": [],
   "source": [
    "%%capture\n",
    "%load_ext sql\n",
    "%sql sqlite:///Jobs.db"
   ]
  },
  {
   "attachments": {},
   "cell_type": "markdown",
   "metadata": {},
   "source": [
    "#### <span style=\"color:#00FFD1\">Example</span>\n",
    "> Say we wanted to get the Majors in which the unemployment rate is greater than the average rate of unemployment.\n",
    "#### One way to do this is to write two queries.\n",
    "    1. Use the AVG function to calculate the average for the Unemployment_rate field\n",
    "    2. Write another query and filter the results where the Unemployment_rate is less than the result of the previous query."
   ]
  },
  {
   "cell_type": "code",
   "execution_count": 7,
   "metadata": {
    "vscode": {
     "languageId": "sql"
    }
   },
   "outputs": [
    {
     "name": "stdout",
     "output_type": "stream",
     "text": [
      " * sqlite:///Jobs.db\n",
      "Done.\n",
      "Done.\n"
     ]
    },
    {
     "data": {
      "text/html": [
       "<table>\n",
       "    <thead>\n",
       "        <tr>\n",
       "            <th>Major</th>\n",
       "            <th>Unemployment_rate</th>\n",
       "        </tr>\n",
       "    </thead>\n",
       "    <tbody>\n",
       "        <tr>\n",
       "            <td>MINING AND MINERAL ENGINEERING</td>\n",
       "            <td>0.117241379</td>\n",
       "        </tr>\n",
       "        <tr>\n",
       "            <td>NUCLEAR ENGINEERING</td>\n",
       "            <td>0.177226407</td>\n",
       "        </tr>\n",
       "        <tr>\n",
       "            <td>ACTUARIAL SCIENCE</td>\n",
       "            <td>0.095652174</td>\n",
       "        </tr>\n",
       "        <tr>\n",
       "            <td>BIOMEDICAL ENGINEERING</td>\n",
       "            <td>0.09208386</td>\n",
       "        </tr>\n",
       "        <tr>\n",
       "            <td>BIOLOGICAL ENGINEERING</td>\n",
       "            <td>0.087143069</td>\n",
       "        </tr>\n",
       "        <tr>\n",
       "            <td>FOOD SCIENCE</td>\n",
       "            <td>0.09693146</td>\n",
       "        </tr>\n",
       "        <tr>\n",
       "            <td>ELECTRICAL ENGINEERING TECHNOLOGY</td>\n",
       "            <td>0.087557114</td>\n",
       "        </tr>\n",
       "        <tr>\n",
       "            <td>CIVIL ENGINEERING</td>\n",
       "            <td>0.07060957400000001</td>\n",
       "        </tr>\n",
       "        <tr>\n",
       "            <td>MISCELLANEOUS ENGINEERING</td>\n",
       "            <td>0.074392523</td>\n",
       "        </tr>\n",
       "        <tr>\n",
       "            <td>PUBLIC POLICY</td>\n",
       "            <td>0.128426299</td>\n",
       "        </tr>\n",
       "    </tbody>\n",
       "</table>"
      ],
      "text/plain": [
       "[('MINING AND MINERAL ENGINEERING', 0.117241379),\n",
       " ('NUCLEAR ENGINEERING', 0.177226407),\n",
       " ('ACTUARIAL SCIENCE', 0.095652174),\n",
       " ('BIOMEDICAL ENGINEERING', 0.09208386),\n",
       " ('BIOLOGICAL ENGINEERING', 0.087143069),\n",
       " ('FOOD SCIENCE', 0.09693146),\n",
       " ('ELECTRICAL ENGINEERING TECHNOLOGY', 0.087557114),\n",
       " ('CIVIL ENGINEERING', 0.07060957400000001),\n",
       " ('MISCELLANEOUS ENGINEERING', 0.074392523),\n",
       " ('PUBLIC POLICY', 0.128426299)]"
      ]
     },
     "execution_count": 7,
     "metadata": {},
     "output_type": "execute_result"
    }
   ],
   "source": [
    "%%sql\n",
    "SELECT AVG(Unemployment_rate) AS avg_unemployment\n",
    "FROM recent_grads;\n",
    "\n",
    "SELECT \n",
    "    Major, \n",
    "    Unemployment_rate\n",
    "FROM recent_grads\n",
    "WHERE Unemployment_rate > 0.06858728923255816\n",
    "LIMIT 10;"
   ]
  },
  {
   "cell_type": "code",
   "execution_count": null,
   "metadata": {
    "vscode": {
     "languageId": "sql"
    }
   },
   "outputs": [],
   "source": []
  },
  {
   "attachments": {},
   "cell_type": "markdown",
   "metadata": {},
   "source": [
    "* The two queries give us the desired results but this approach lacks flexibility and requires more work.\n",
    "* So, how can we make this query more dynamic?\n",
    "* We can embed the first query inside the second query.\n",
    "* A subquery must be enclosed inside parenthesis."
   ]
  },
  {
   "cell_type": "code",
   "execution_count": 9,
   "metadata": {
    "vscode": {
     "languageId": "sql"
    }
   },
   "outputs": [
    {
     "name": "stdout",
     "output_type": "stream",
     "text": [
      " * sqlite:///Jobs.db\n",
      "Done.\n"
     ]
    },
    {
     "data": {
      "text/html": [
       "<table>\n",
       "    <thead>\n",
       "        <tr>\n",
       "            <th>Major</th>\n",
       "            <th>Unemployment_rate</th>\n",
       "        </tr>\n",
       "    </thead>\n",
       "    <tbody>\n",
       "        <tr>\n",
       "            <td>MINING AND MINERAL ENGINEERING</td>\n",
       "            <td>0.117241379</td>\n",
       "        </tr>\n",
       "        <tr>\n",
       "            <td>NUCLEAR ENGINEERING</td>\n",
       "            <td>0.177226407</td>\n",
       "        </tr>\n",
       "        <tr>\n",
       "            <td>ACTUARIAL SCIENCE</td>\n",
       "            <td>0.095652174</td>\n",
       "        </tr>\n",
       "        <tr>\n",
       "            <td>BIOMEDICAL ENGINEERING</td>\n",
       "            <td>0.09208386</td>\n",
       "        </tr>\n",
       "        <tr>\n",
       "            <td>BIOLOGICAL ENGINEERING</td>\n",
       "            <td>0.087143069</td>\n",
       "        </tr>\n",
       "        <tr>\n",
       "            <td>FOOD SCIENCE</td>\n",
       "            <td>0.09693146</td>\n",
       "        </tr>\n",
       "        <tr>\n",
       "            <td>ELECTRICAL ENGINEERING TECHNOLOGY</td>\n",
       "            <td>0.087557114</td>\n",
       "        </tr>\n",
       "        <tr>\n",
       "            <td>CIVIL ENGINEERING</td>\n",
       "            <td>0.07060957400000001</td>\n",
       "        </tr>\n",
       "        <tr>\n",
       "            <td>MISCELLANEOUS ENGINEERING</td>\n",
       "            <td>0.074392523</td>\n",
       "        </tr>\n",
       "        <tr>\n",
       "            <td>PUBLIC POLICY</td>\n",
       "            <td>0.128426299</td>\n",
       "        </tr>\n",
       "    </tbody>\n",
       "</table>"
      ],
      "text/plain": [
       "[('MINING AND MINERAL ENGINEERING', 0.117241379),\n",
       " ('NUCLEAR ENGINEERING', 0.177226407),\n",
       " ('ACTUARIAL SCIENCE', 0.095652174),\n",
       " ('BIOMEDICAL ENGINEERING', 0.09208386),\n",
       " ('BIOLOGICAL ENGINEERING', 0.087143069),\n",
       " ('FOOD SCIENCE', 0.09693146),\n",
       " ('ELECTRICAL ENGINEERING TECHNOLOGY', 0.087557114),\n",
       " ('CIVIL ENGINEERING', 0.07060957400000001),\n",
       " ('MISCELLANEOUS ENGINEERING', 0.074392523),\n",
       " ('PUBLIC POLICY', 0.128426299)]"
      ]
     },
     "execution_count": 9,
     "metadata": {},
     "output_type": "execute_result"
    }
   ],
   "source": [
    "%%sql\n",
    "\n",
    "SELECT \n",
    "    Major, \n",
    "    Unemployment_rate\n",
    "FROM recent_grads\n",
    "WHERE Unemployment_rate > (\n",
    "    SELECT AVG(Unemployment_rate) AS avg_unemployment\n",
    "    FROM recent_grads\n",
    ")\n",
    "LIMIT 10;"
   ]
  },
  {
   "cell_type": "code",
   "execution_count": null,
   "metadata": {
    "vscode": {
     "languageId": "sql"
    }
   },
   "outputs": [],
   "source": []
  },
  {
   "attachments": {},
   "cell_type": "markdown",
   "metadata": {},
   "source": [
    "* Subqueries are not limited to the WHERE clause only, they can be used other clauses as well.\n",
    "#### <span style=\"color:#00FFD1\">Example</span> \n",
    "    * We could want to understand the proportion of majors whose ShareWomen is above average.\n",
    "    * We need to divide the number of rows that met this filter condition by the total number of rows."
   ]
  },
  {
   "cell_type": "code",
   "execution_count": null,
   "metadata": {
    "vscode": {
     "languageId": "sql"
    }
   },
   "outputs": [],
   "source": [
    "%%sql\n",
    "SELECT CAST(COUNT(*) AS Float)/(\n",
    "        SELECT COUNT(*)\n",
    "        FROM recent_grads\n",
    "    ) AS proportion\n",
    "FROM recent_grads\n",
    "WHERE ShareWomen > (\n",
    "    SELECT AVG(ShareWomen) \n",
    "    FROM recent_grads\n",
    "    );"
   ]
  },
  {
   "cell_type": "code",
   "execution_count": null,
   "metadata": {
    "vscode": {
     "languageId": "sql"
    }
   },
   "outputs": [],
   "source": []
  },
  {
   "attachments": {},
   "cell_type": "markdown",
   "metadata": {},
   "source": [
    "## <span style=\"color:#E600E6\">IN Operator</span>\n",
    "* We can use the IN operator in place of comparison operators when we have a list of values that we want to match in the WHERE clause.\n",
    "* We can ofcourse use the OR operator but that will make our query more complex and longer."
   ]
  },
  {
   "cell_type": "code",
   "execution_count": 12,
   "metadata": {
    "vscode": {
     "languageId": "sql"
    }
   },
   "outputs": [
    {
     "name": "stdout",
     "output_type": "stream",
     "text": [
      " * sqlite:///Jobs.db\n",
      "Done.\n"
     ]
    },
    {
     "data": {
      "text/html": [
       "<table>\n",
       "    <thead>\n",
       "        <tr>\n",
       "            <th>Major</th>\n",
       "            <th>Major_category</th>\n",
       "        </tr>\n",
       "    </thead>\n",
       "    <tbody>\n",
       "        <tr>\n",
       "            <td>PETROLEUM ENGINEERING</td>\n",
       "            <td>Engineering</td>\n",
       "        </tr>\n",
       "        <tr>\n",
       "            <td>MINING AND MINERAL ENGINEERING</td>\n",
       "            <td>Engineering</td>\n",
       "        </tr>\n",
       "        <tr>\n",
       "            <td>METALLURGICAL ENGINEERING</td>\n",
       "            <td>Engineering</td>\n",
       "        </tr>\n",
       "        <tr>\n",
       "            <td>NAVAL ARCHITECTURE AND MARINE ENGINEERING</td>\n",
       "            <td>Engineering</td>\n",
       "        </tr>\n",
       "        <tr>\n",
       "            <td>CHEMICAL ENGINEERING</td>\n",
       "            <td>Engineering</td>\n",
       "        </tr>\n",
       "        <tr>\n",
       "            <td>NUCLEAR ENGINEERING</td>\n",
       "            <td>Engineering</td>\n",
       "        </tr>\n",
       "        <tr>\n",
       "            <td>ACTUARIAL SCIENCE</td>\n",
       "            <td>Business</td>\n",
       "        </tr>\n",
       "        <tr>\n",
       "            <td>MECHANICAL ENGINEERING</td>\n",
       "            <td>Engineering</td>\n",
       "        </tr>\n",
       "        <tr>\n",
       "            <td>ELECTRICAL ENGINEERING</td>\n",
       "            <td>Engineering</td>\n",
       "        </tr>\n",
       "        <tr>\n",
       "            <td>COMPUTER ENGINEERING</td>\n",
       "            <td>Engineering</td>\n",
       "        </tr>\n",
       "    </tbody>\n",
       "</table>"
      ],
      "text/plain": [
       "[('PETROLEUM ENGINEERING', 'Engineering'),\n",
       " ('MINING AND MINERAL ENGINEERING', 'Engineering'),\n",
       " ('METALLURGICAL ENGINEERING', 'Engineering'),\n",
       " ('NAVAL ARCHITECTURE AND MARINE ENGINEERING', 'Engineering'),\n",
       " ('CHEMICAL ENGINEERING', 'Engineering'),\n",
       " ('NUCLEAR ENGINEERING', 'Engineering'),\n",
       " ('ACTUARIAL SCIENCE', 'Business'),\n",
       " ('MECHANICAL ENGINEERING', 'Engineering'),\n",
       " ('ELECTRICAL ENGINEERING', 'Engineering'),\n",
       " ('COMPUTER ENGINEERING', 'Engineering')]"
      ]
     },
     "execution_count": 12,
     "metadata": {},
     "output_type": "execute_result"
    }
   ],
   "source": [
    "%%sql\n",
    "\n",
    "SELECT Major, Major_category\n",
    "FROM recent_grads\n",
    "WHERE Major_category IN (\"Engineering\", \"Business\")\n",
    "LIMIT 10;"
   ]
  },
  {
   "cell_type": "code",
   "execution_count": null,
   "metadata": {
    "vscode": {
     "languageId": "sql"
    }
   },
   "outputs": [],
   "source": []
  },
  {
   "attachments": {},
   "cell_type": "markdown",
   "metadata": {},
   "source": [
    "### <span style=\"color:#00FFD1\">Exercise</span> \n",
    "Using your knowledge of SQL subqueries and the IN operator answer the following question.\n",
    "\n",
    "**Improve the example query above, filter your results by the top 3 Major_categories with respect to total Unemployed graduates.**\n",
    "\n",
    "    * The idea is to get the top 3 Major_categories with the highest number of unemployed graduates.\n",
    "    * Then use the 3 major categories to filter your results like in the example query above."
   ]
  },
  {
   "cell_type": "code",
   "execution_count": null,
   "metadata": {
    "vscode": {
     "languageId": "sql"
    }
   },
   "outputs": [],
   "source": []
  },
  {
   "attachments": {},
   "cell_type": "markdown",
   "metadata": {},
   "source": [
    "### <span style=\"color:#00FFD1\">NOTE:</span>\n",
    "* When writing an SQL statement that will end up using many subqueries, it can be overwhelming to know how or where to start.\n",
    "* It's a good idea to start with the inner queries first, make sure they give your expected results then work your way outwards."
   ]
  },
  {
   "attachments": {},
   "cell_type": "markdown",
   "metadata": {},
   "source": [
    "# END"
   ]
  }
 ],
 "metadata": {
  "kernelspec": {
   "display_name": "base",
   "language": "python",
   "name": "python3"
  },
  "language_info": {
   "codemirror_mode": {
    "name": "ipython",
    "version": 3
   },
   "file_extension": ".py",
   "mimetype": "text/x-python",
   "name": "python",
   "nbconvert_exporter": "python",
   "pygments_lexer": "ipython3",
   "version": "3.9.13"
  },
  "orig_nbformat": 4
 },
 "nbformat": 4,
 "nbformat_minor": 2
}
