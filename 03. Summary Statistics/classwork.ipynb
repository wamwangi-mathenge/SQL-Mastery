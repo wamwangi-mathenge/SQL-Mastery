{
 "cells": [
  {
   "cell_type": "code",
   "execution_count": 2,
   "metadata": {
    "vscode": {
     "languageId": "sql"
    }
   },
   "outputs": [],
   "source": [
    "%%capture\n",
    "%load_ext sql\n",
    "%sql sqlite:///Jobs.db"
   ]
  },
  {
   "cell_type": "code",
   "execution_count": 6,
   "metadata": {
    "vscode": {
     "languageId": "sql"
    }
   },
   "outputs": [
    {
     "name": "stdout",
     "output_type": "stream",
     "text": [
      " * sqlite:///Jobs.db\n",
      "Done.\n"
     ]
    },
    {
     "data": {
      "text/html": [
       "<table>\n",
       "    <thead>\n",
       "        <tr>\n",
       "            <th>Major</th>\n",
       "            <th>min_rate</th>\n",
       "        </tr>\n",
       "    </thead>\n",
       "    <tbody>\n",
       "        <tr>\n",
       "            <td>MATHEMATICS AND COMPUTER SCIENCE</td>\n",
       "            <td>0.0</td>\n",
       "        </tr>\n",
       "    </tbody>\n",
       "</table>"
      ],
      "text/plain": [
       "[('MATHEMATICS AND COMPUTER SCIENCE', 0.0)]"
      ]
     },
     "execution_count": 6,
     "metadata": {},
     "output_type": "execute_result"
    }
   ],
   "source": [
    "%%sql\n",
    "\n",
    "SELECT Major, MIN(Unemployment_rate) AS min_rate\n",
    "FROM recent_grads;"
   ]
  },
  {
   "cell_type": "code",
   "execution_count": 5,
   "metadata": {
    "vscode": {
     "languageId": "sql"
    }
   },
   "outputs": [
    {
     "name": "stdout",
     "output_type": "stream",
     "text": [
      " * sqlite:///Jobs.db\n",
      "Done.\n"
     ]
    },
    {
     "data": {
      "text/html": [
       "<table>\n",
       "    <thead>\n",
       "        <tr>\n",
       "            <th>Major</th>\n",
       "            <th>min_women</th>\n",
       "        </tr>\n",
       "    </thead>\n",
       "    <tbody>\n",
       "        <tr>\n",
       "            <td>MISCELLANEOUS ENGINEERING TECHNOLOGIES</td>\n",
       "            <td>0.0</td>\n",
       "        </tr>\n",
       "    </tbody>\n",
       "</table>"
      ],
      "text/plain": [
       "[('MISCELLANEOUS ENGINEERING TECHNOLOGIES', 0.0)]"
      ]
     },
     "execution_count": 5,
     "metadata": {},
     "output_type": "execute_result"
    }
   ],
   "source": [
    "%%sql\n",
    "\n",
    "SELECT Major, MIN(ShareWomen) AS min_women\n",
    "FROM recent_grads;"
   ]
  },
  {
   "cell_type": "code",
   "execution_count": 8,
   "metadata": {
    "vscode": {
     "languageId": "sql"
    }
   },
   "outputs": [
    {
     "name": "stdout",
     "output_type": "stream",
     "text": [
      " * sqlite:///Jobs.db\n",
      "Done.\n"
     ]
    },
    {
     "data": {
      "text/html": [
       "<table>\n",
       "    <thead>\n",
       "        <tr>\n",
       "            <th>Major</th>\n",
       "            <th>max_unemployment_rate</th>\n",
       "        </tr>\n",
       "    </thead>\n",
       "    <tbody>\n",
       "        <tr>\n",
       "            <td>NUCLEAR ENGINEERING</td>\n",
       "            <td>0.177226407</td>\n",
       "        </tr>\n",
       "    </tbody>\n",
       "</table>"
      ],
      "text/plain": [
       "[('NUCLEAR ENGINEERING', 0.177226407)]"
      ]
     },
     "execution_count": 8,
     "metadata": {},
     "output_type": "execute_result"
    }
   ],
   "source": [
    "%%sql\n",
    "\n",
    "SELECT Major, MAX(Unemployment_rate) AS max_unemployment_rate\n",
    "FROM recent_grads;"
   ]
  },
  {
   "cell_type": "code",
   "execution_count": 9,
   "metadata": {
    "vscode": {
     "languageId": "sql"
    }
   },
   "outputs": [
    {
     "name": "stdout",
     "output_type": "stream",
     "text": [
      " * sqlite:///Jobs.db\n",
      "Done.\n"
     ]
    },
    {
     "data": {
      "text/html": [
       "<table>\n",
       "    <thead>\n",
       "        <tr>\n",
       "            <th>Major_category</th>\n",
       "        </tr>\n",
       "    </thead>\n",
       "    <tbody>\n",
       "        <tr>\n",
       "            <td>Engineering</td>\n",
       "        </tr>\n",
       "        <tr>\n",
       "            <td>Business</td>\n",
       "        </tr>\n",
       "        <tr>\n",
       "            <td>Physical Sciences</td>\n",
       "        </tr>\n",
       "        <tr>\n",
       "            <td>Law &amp; Public Policy</td>\n",
       "        </tr>\n",
       "        <tr>\n",
       "            <td>Computers &amp; Mathematics</td>\n",
       "        </tr>\n",
       "        <tr>\n",
       "            <td>Agriculture &amp; Natural Resources</td>\n",
       "        </tr>\n",
       "        <tr>\n",
       "            <td>Industrial Arts &amp; Consumer Services</td>\n",
       "        </tr>\n",
       "        <tr>\n",
       "            <td>Arts</td>\n",
       "        </tr>\n",
       "        <tr>\n",
       "            <td>Health</td>\n",
       "        </tr>\n",
       "        <tr>\n",
       "            <td>Social Science</td>\n",
       "        </tr>\n",
       "        <tr>\n",
       "            <td>Biology &amp; Life Science</td>\n",
       "        </tr>\n",
       "        <tr>\n",
       "            <td>Education</td>\n",
       "        </tr>\n",
       "        <tr>\n",
       "            <td>Humanities &amp; Liberal Arts</td>\n",
       "        </tr>\n",
       "        <tr>\n",
       "            <td>Psychology &amp; Social Work</td>\n",
       "        </tr>\n",
       "        <tr>\n",
       "            <td>Communications &amp; Journalism</td>\n",
       "        </tr>\n",
       "        <tr>\n",
       "            <td>Interdisciplinary</td>\n",
       "        </tr>\n",
       "    </tbody>\n",
       "</table>"
      ],
      "text/plain": [
       "[('Engineering',),\n",
       " ('Business',),\n",
       " ('Physical Sciences',),\n",
       " ('Law & Public Policy',),\n",
       " ('Computers & Mathematics',),\n",
       " ('Agriculture & Natural Resources',),\n",
       " ('Industrial Arts & Consumer Services',),\n",
       " ('Arts',),\n",
       " ('Health',),\n",
       " ('Social Science',),\n",
       " ('Biology & Life Science',),\n",
       " ('Education',),\n",
       " ('Humanities & Liberal Arts',),\n",
       " ('Psychology & Social Work',),\n",
       " ('Communications & Journalism',),\n",
       " ('Interdisciplinary',)]"
      ]
     },
     "execution_count": 9,
     "metadata": {},
     "output_type": "execute_result"
    }
   ],
   "source": [
    "%%sql\n",
    "\n",
    "SELECT DISTINCT Major_category\n",
    "FROM recent_grads;"
   ]
  },
  {
   "cell_type": "code",
   "execution_count": 10,
   "metadata": {
    "vscode": {
     "languageId": "sql"
    }
   },
   "outputs": [
    {
     "name": "stdout",
     "output_type": "stream",
     "text": [
      " * sqlite:///Jobs.db\n",
      "Done.\n"
     ]
    },
    {
     "data": {
      "text/html": [
       "<table>\n",
       "    <thead>\n",
       "        <tr>\n",
       "            <th>Major_category</th>\n",
       "            <th>total_unemployed</th>\n",
       "        </tr>\n",
       "    </thead>\n",
       "    <tbody>\n",
       "        <tr>\n",
       "            <td>Engineering</td>\n",
       "            <td>29817</td>\n",
       "        </tr>\n",
       "    </tbody>\n",
       "</table>"
      ],
      "text/plain": [
       "[('Engineering', 29817)]"
      ]
     },
     "execution_count": 10,
     "metadata": {},
     "output_type": "execute_result"
    }
   ],
   "source": [
    "%%sql\n",
    "SELECT Major_category, SUM(Unemployed) AS total_unemployed\n",
    "FROM recent_grads\n",
    "WHERE Major_category = \"Engineering\""
   ]
  },
  {
   "cell_type": "code",
   "execution_count": 11,
   "metadata": {
    "vscode": {
     "languageId": "sql"
    }
   },
   "outputs": [
    {
     "name": "stdout",
     "output_type": "stream",
     "text": [
      " * sqlite:///Jobs.db\n",
      "Done.\n"
     ]
    },
    {
     "data": {
      "text/html": [
       "<table>\n",
       "    <thead>\n",
       "        <tr>\n",
       "            <th>total_majors</th>\n",
       "        </tr>\n",
       "    </thead>\n",
       "    <tbody>\n",
       "        <tr>\n",
       "            <td>29</td>\n",
       "        </tr>\n",
       "    </tbody>\n",
       "</table>"
      ],
      "text/plain": [
       "[(29,)]"
      ]
     },
     "execution_count": 11,
     "metadata": {},
     "output_type": "execute_result"
    }
   ],
   "source": [
    "%%sql\n",
    "\n",
    "SELECT COUNT(Major) AS total_majors\n",
    "FROM recent_grads\n",
    "WHERE Major_category = \"Engineering\";"
   ]
  },
  {
   "cell_type": "code",
   "execution_count": 14,
   "metadata": {
    "vscode": {
     "languageId": "sql"
    }
   },
   "outputs": [
    {
     "name": "stdout",
     "output_type": "stream",
     "text": [
      " * sqlite:///Jobs.db\n",
      "Done.\n"
     ]
    },
    {
     "data": {
      "text/html": [
       "<table>\n",
       "    <thead>\n",
       "        <tr>\n",
       "            <th>Mean_rate</th>\n",
       "        </tr>\n",
       "    </thead>\n",
       "    <tbody>\n",
       "        <tr>\n",
       "            <td>6.86</td>\n",
       "        </tr>\n",
       "    </tbody>\n",
       "</table>"
      ],
      "text/plain": [
       "[(6.86,)]"
      ]
     },
     "execution_count": 14,
     "metadata": {},
     "output_type": "execute_result"
    }
   ],
   "source": [
    "%%sql\n",
    "\n",
    "SELECT ROUND(AVG(Unemployment_rate) * 100, 2) AS Mean_rate\n",
    "FROM recent_grads;"
   ]
  },
  {
   "cell_type": "code",
   "execution_count": 16,
   "metadata": {
    "vscode": {
     "languageId": "sql"
    }
   },
   "outputs": [
    {
     "name": "stdout",
     "output_type": "stream",
     "text": [
      " * sqlite:///Jobs.db\n",
      "Done.\n"
     ]
    },
    {
     "data": {
      "text/html": [
       "<table>\n",
       "    <thead>\n",
       "        <tr>\n",
       "            <th>Sharewomen_rounded</th>\n",
       "        </tr>\n",
       "    </thead>\n",
       "    <tbody>\n",
       "        <tr>\n",
       "            <td>0.12</td>\n",
       "        </tr>\n",
       "        <tr>\n",
       "            <td>0.1</td>\n",
       "        </tr>\n",
       "        <tr>\n",
       "            <td>0.15</td>\n",
       "        </tr>\n",
       "        <tr>\n",
       "            <td>0.11</td>\n",
       "        </tr>\n",
       "        <tr>\n",
       "            <td>0.34</td>\n",
       "        </tr>\n",
       "        <tr>\n",
       "            <td>0.14</td>\n",
       "        </tr>\n",
       "        <tr>\n",
       "            <td>0.54</td>\n",
       "        </tr>\n",
       "        <tr>\n",
       "            <td>0.44</td>\n",
       "        </tr>\n",
       "        <tr>\n",
       "            <td>0.14</td>\n",
       "        </tr>\n",
       "        <tr>\n",
       "            <td>0.44</td>\n",
       "        </tr>\n",
       "    </tbody>\n",
       "</table>"
      ],
      "text/plain": [
       "[(0.12,),\n",
       " (0.1,),\n",
       " (0.15,),\n",
       " (0.11,),\n",
       " (0.34,),\n",
       " (0.14,),\n",
       " (0.54,),\n",
       " (0.44,),\n",
       " (0.14,),\n",
       " (0.44,)]"
      ]
     },
     "execution_count": 16,
     "metadata": {},
     "output_type": "execute_result"
    }
   ],
   "source": [
    "%%sql\n",
    "SELECT ROUND(Sharewomen, 2) AS Sharewomen_rounded\n",
    "FROM recent_grads\n",
    "LIMIT 10;"
   ]
  },
  {
   "cell_type": "code",
   "execution_count": 20,
   "metadata": {
    "vscode": {
     "languageId": "sql"
    }
   },
   "outputs": [
    {
     "name": "stdout",
     "output_type": "stream",
     "text": [
      " * sqlite:///Jobs.db\n",
      "Done.\n"
     ]
    },
    {
     "data": {
      "text/html": [
       "<table>\n",
       "    <thead>\n",
       "        <tr>\n",
       "            <th>Average</th>\n",
       "            <th>Minimum</th>\n",
       "            <th>Maximum</th>\n",
       "        </tr>\n",
       "    </thead>\n",
       "    <tbody>\n",
       "        <tr>\n",
       "            <td>0.07</td>\n",
       "            <td>0.0</td>\n",
       "            <td>0.18</td>\n",
       "        </tr>\n",
       "    </tbody>\n",
       "</table>"
      ],
      "text/plain": [
       "[(0.07, 0.0, 0.18)]"
      ]
     },
     "execution_count": 20,
     "metadata": {},
     "output_type": "execute_result"
    }
   ],
   "source": [
    "%%sql\n",
    "SELECT \n",
    "    ROUND(AVG(Unemployment_rate), 2) AS Average, \n",
    "    ROUND(MIN(Unemployment_rate), 2) AS Minimum, \n",
    "    ROUND(MAX(Unemployment_rate), 2) AS Maximum\n",
    "FROM recent_grads;"
   ]
  },
  {
   "cell_type": "code",
   "execution_count": 22,
   "metadata": {
    "vscode": {
     "languageId": "sql"
    }
   },
   "outputs": [
    {
     "name": "stdout",
     "output_type": "stream",
     "text": [
      " * sqlite:///Jobs.db\n",
      "Done.\n"
     ]
    },
    {
     "data": {
      "text/html": [
       "<table>\n",
       "    <thead>\n",
       "        <tr>\n",
       "            <th>Major</th>\n",
       "        </tr>\n",
       "    </thead>\n",
       "    <tbody>\n",
       "        <tr>\n",
       "            <td>MILITARY TECHNOLOGIES</td>\n",
       "        </tr>\n",
       "    </tbody>\n",
       "</table>"
      ],
      "text/plain": [
       "[('MILITARY TECHNOLOGIES',)]"
      ]
     },
     "execution_count": 22,
     "metadata": {},
     "output_type": "execute_result"
    }
   ],
   "source": [
    "%%sql\n",
    "SELECT Major\n",
    "FROM recent_grads\n",
    "WHERE Unemployment_rate IS NULL;"
   ]
  },
  {
   "cell_type": "code",
   "execution_count": 25,
   "metadata": {
    "vscode": {
     "languageId": "sql"
    }
   },
   "outputs": [
    {
     "name": "stdout",
     "output_type": "stream",
     "text": [
      " * sqlite:///Jobs.db\n",
      "Done.\n"
     ]
    },
    {
     "data": {
      "text/html": [
       "<table>\n",
       "    <thead>\n",
       "        <tr>\n",
       "            <th>ShareWomen</th>\n",
       "            <th>percent_female</th>\n",
       "        </tr>\n",
       "    </thead>\n",
       "    <tbody>\n",
       "        <tr>\n",
       "            <td>0.120564344</td>\n",
       "            <td>12.0564344</td>\n",
       "        </tr>\n",
       "        <tr>\n",
       "            <td>0.10185185199999999</td>\n",
       "            <td>10.1851852</td>\n",
       "        </tr>\n",
       "        <tr>\n",
       "            <td>0.153037383</td>\n",
       "            <td>15.3037383</td>\n",
       "        </tr>\n",
       "        <tr>\n",
       "            <td>0.107313196</td>\n",
       "            <td>10.731319599999999</td>\n",
       "        </tr>\n",
       "        <tr>\n",
       "            <td>0.341630502</td>\n",
       "            <td>34.1630502</td>\n",
       "        </tr>\n",
       "        <tr>\n",
       "            <td>0.144966965</td>\n",
       "            <td>14.4966965</td>\n",
       "        </tr>\n",
       "        <tr>\n",
       "            <td>0.535714286</td>\n",
       "            <td>53.571428600000004</td>\n",
       "        </tr>\n",
       "        <tr>\n",
       "            <td>0.44135557299999995</td>\n",
       "            <td>44.135557299999995</td>\n",
       "        </tr>\n",
       "        <tr>\n",
       "            <td>0.139792801</td>\n",
       "            <td>13.979280099999999</td>\n",
       "        </tr>\n",
       "        <tr>\n",
       "            <td>0.437846874</td>\n",
       "            <td>43.7846874</td>\n",
       "        </tr>\n",
       "    </tbody>\n",
       "</table>"
      ],
      "text/plain": [
       "[(0.120564344, 12.0564344),\n",
       " (0.10185185199999999, 10.1851852),\n",
       " (0.153037383, 15.3037383),\n",
       " (0.107313196, 10.731319599999999),\n",
       " (0.341630502, 34.1630502),\n",
       " (0.144966965, 14.4966965),\n",
       " (0.535714286, 53.571428600000004),\n",
       " (0.44135557299999995, 44.135557299999995),\n",
       " (0.139792801, 13.979280099999999),\n",
       " (0.437846874, 43.7846874)]"
      ]
     },
     "execution_count": 25,
     "metadata": {},
     "output_type": "execute_result"
    }
   ],
   "source": [
    "%%sql\n",
    "SELECT Sharewomen, Sharewomen * 100 AS percent_female\n",
    "FROM recent_grads\n",
    "LIMIT 10;"
   ]
  },
  {
   "cell_type": "code",
   "execution_count": 27,
   "metadata": {
    "vscode": {
     "languageId": "sql"
    }
   },
   "outputs": [
    {
     "name": "stdout",
     "output_type": "stream",
     "text": [
      " * sqlite:///Jobs.db\n",
      "Done.\n"
     ]
    },
    {
     "data": {
      "text/html": [
       "<table>\n",
       "    <thead>\n",
       "        <tr>\n",
       "            <th>Total</th>\n",
       "            <th>sum_men_women</th>\n",
       "        </tr>\n",
       "    </thead>\n",
       "    <tbody>\n",
       "        <tr>\n",
       "            <td>2339</td>\n",
       "            <td>2339</td>\n",
       "        </tr>\n",
       "        <tr>\n",
       "            <td>756</td>\n",
       "            <td>756</td>\n",
       "        </tr>\n",
       "        <tr>\n",
       "            <td>856</td>\n",
       "            <td>856</td>\n",
       "        </tr>\n",
       "        <tr>\n",
       "            <td>1258</td>\n",
       "            <td>1258</td>\n",
       "        </tr>\n",
       "        <tr>\n",
       "            <td>32260</td>\n",
       "            <td>32260</td>\n",
       "        </tr>\n",
       "        <tr>\n",
       "            <td>2573</td>\n",
       "            <td>2573</td>\n",
       "        </tr>\n",
       "        <tr>\n",
       "            <td>3777</td>\n",
       "            <td>1792</td>\n",
       "        </tr>\n",
       "        <tr>\n",
       "            <td>1792</td>\n",
       "            <td>3777</td>\n",
       "        </tr>\n",
       "        <tr>\n",
       "            <td>91227</td>\n",
       "            <td>15058</td>\n",
       "        </tr>\n",
       "        <tr>\n",
       "            <td>81527</td>\n",
       "            <td>14955</td>\n",
       "        </tr>\n",
       "    </tbody>\n",
       "</table>"
      ],
      "text/plain": [
       "[(2339, 2339),\n",
       " (756, 756),\n",
       " (856, 856),\n",
       " (1258, 1258),\n",
       " (32260, 32260),\n",
       " (2573, 2573),\n",
       " (3777, 1792),\n",
       " (1792, 3777),\n",
       " (91227, 15058),\n",
       " (81527, 14955)]"
      ]
     },
     "execution_count": 27,
     "metadata": {},
     "output_type": "execute_result"
    }
   ],
   "source": [
    "%%sql\n",
    "SELECT Total, Men + Women AS sum_men_women\n",
    "FROM recent_grads\n",
    "LIMIT 10;"
   ]
  },
  {
   "cell_type": "code",
   "execution_count": null,
   "metadata": {
    "vscode": {
     "languageId": "sql"
    }
   },
   "outputs": [],
   "source": []
  }
 ],
 "metadata": {
  "kernelspec": {
   "display_name": "Python 3",
   "language": "python",
   "name": "python3"
  },
  "language_info": {
   "codemirror_mode": {
    "name": "ipython",
    "version": 3
   },
   "file_extension": ".py",
   "mimetype": "text/x-python",
   "name": "python",
   "nbconvert_exporter": "python",
   "pygments_lexer": "ipython3",
   "version": "3.10.6"
  },
  "orig_nbformat": 4
 },
 "nbformat": 4,
 "nbformat_minor": 2
}
