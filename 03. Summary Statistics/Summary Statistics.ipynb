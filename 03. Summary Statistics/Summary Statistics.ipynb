{
 "cells": [
  {
   "cell_type": "markdown",
   "id": "6174bc3a",
   "metadata": {},
   "source": [
    "# <span style=\"color:#E600E6\">SUMMARY STATISTICS</span>\n",
    "* In this session we'll calculate summary statistics for our data."
   ]
  },
  {
   "cell_type": "markdown",
   "id": "8d659880",
   "metadata": {},
   "source": [
    "## <span style=\"color:#E600E6\">Aggregate Functions</span>\n",
    "\n",
    "* A function takes in input and produces the output of the function\n",
    "> <span style=\"color:green\">Example: if you are asked to get the **Major** with the **highest Unemployment Rate**. How would you calculate it?</span>\n",
    "* This is where SQL aggregate functions come in, they are applied over columns of values and return a single value."
   ]
  },
  {
   "cell_type": "code",
   "execution_count": 2,
   "id": "b995f3c7",
   "metadata": {},
   "outputs": [],
   "source": [
    "%%capture\n",
    "%load_ext sql\n",
    "%sql sqlite:///Jobs.db"
   ]
  },
  {
   "cell_type": "code",
   "execution_count": 11,
   "id": "7d924bac",
   "metadata": {},
   "outputs": [
    {
     "name": "stdout",
     "output_type": "stream",
     "text": [
      " * sqlite:///Jobs.db\n",
      "Done.\n"
     ]
    },
    {
     "data": {
      "text/html": [
       "<table>\n",
       "    <thead>\n",
       "        <tr>\n",
       "            <th>index</th>\n",
       "            <th>Rank</th>\n",
       "            <th>Major_code</th>\n",
       "            <th>Major</th>\n",
       "            <th>Major_category</th>\n",
       "            <th>Total</th>\n",
       "            <th>Sample_size</th>\n",
       "            <th>Men</th>\n",
       "            <th>Women</th>\n",
       "            <th>ShareWomen</th>\n",
       "            <th>Employed</th>\n",
       "            <th>Full_time</th>\n",
       "            <th>Part_time</th>\n",
       "            <th>Full_time_year_round</th>\n",
       "            <th>Unemployed</th>\n",
       "            <th>Unemployment_rate</th>\n",
       "            <th>Median</th>\n",
       "            <th>P25th</th>\n",
       "            <th>P75th</th>\n",
       "            <th>College_jobs</th>\n",
       "            <th>Non_college_jobs</th>\n",
       "            <th>Low_wage_jobs</th>\n",
       "        </tr>\n",
       "    </thead>\n",
       "    <tbody>\n",
       "        <tr>\n",
       "            <td>0</td>\n",
       "            <td>1</td>\n",
       "            <td>2419</td>\n",
       "            <td>PETROLEUM ENGINEERING</td>\n",
       "            <td>Engineering</td>\n",
       "            <td>2339</td>\n",
       "            <td>36</td>\n",
       "            <td>2057</td>\n",
       "            <td>282</td>\n",
       "            <td>0.120564344</td>\n",
       "            <td>1976</td>\n",
       "            <td>1849</td>\n",
       "            <td>270</td>\n",
       "            <td>1207</td>\n",
       "            <td>37</td>\n",
       "            <td>0.018380527</td>\n",
       "            <td>110000</td>\n",
       "            <td>95000</td>\n",
       "            <td>125000</td>\n",
       "            <td>1534</td>\n",
       "            <td>364</td>\n",
       "            <td>193</td>\n",
       "        </tr>\n",
       "        <tr>\n",
       "            <td>1</td>\n",
       "            <td>2</td>\n",
       "            <td>2416</td>\n",
       "            <td>MINING AND MINERAL ENGINEERING</td>\n",
       "            <td>Engineering</td>\n",
       "            <td>756</td>\n",
       "            <td>7</td>\n",
       "            <td>679</td>\n",
       "            <td>77</td>\n",
       "            <td>0.10185185199999999</td>\n",
       "            <td>640</td>\n",
       "            <td>556</td>\n",
       "            <td>170</td>\n",
       "            <td>388</td>\n",
       "            <td>85</td>\n",
       "            <td>0.117241379</td>\n",
       "            <td>75000</td>\n",
       "            <td>55000</td>\n",
       "            <td>90000</td>\n",
       "            <td>350</td>\n",
       "            <td>257</td>\n",
       "            <td>50</td>\n",
       "        </tr>\n",
       "        <tr>\n",
       "            <td>2</td>\n",
       "            <td>3</td>\n",
       "            <td>2415</td>\n",
       "            <td>METALLURGICAL ENGINEERING</td>\n",
       "            <td>Engineering</td>\n",
       "            <td>856</td>\n",
       "            <td>3</td>\n",
       "            <td>725</td>\n",
       "            <td>131</td>\n",
       "            <td>0.153037383</td>\n",
       "            <td>648</td>\n",
       "            <td>558</td>\n",
       "            <td>133</td>\n",
       "            <td>340</td>\n",
       "            <td>16</td>\n",
       "            <td>0.024096386</td>\n",
       "            <td>73000</td>\n",
       "            <td>50000</td>\n",
       "            <td>105000</td>\n",
       "            <td>456</td>\n",
       "            <td>176</td>\n",
       "            <td>0</td>\n",
       "        </tr>\n",
       "        <tr>\n",
       "            <td>3</td>\n",
       "            <td>4</td>\n",
       "            <td>2417</td>\n",
       "            <td>NAVAL ARCHITECTURE AND MARINE ENGINEERING</td>\n",
       "            <td>Engineering</td>\n",
       "            <td>1258</td>\n",
       "            <td>16</td>\n",
       "            <td>1123</td>\n",
       "            <td>135</td>\n",
       "            <td>0.107313196</td>\n",
       "            <td>758</td>\n",
       "            <td>1069</td>\n",
       "            <td>150</td>\n",
       "            <td>692</td>\n",
       "            <td>40</td>\n",
       "            <td>0.050125313</td>\n",
       "            <td>70000</td>\n",
       "            <td>43000</td>\n",
       "            <td>80000</td>\n",
       "            <td>529</td>\n",
       "            <td>102</td>\n",
       "            <td>0</td>\n",
       "        </tr>\n",
       "        <tr>\n",
       "            <td>4</td>\n",
       "            <td>5</td>\n",
       "            <td>2405</td>\n",
       "            <td>CHEMICAL ENGINEERING</td>\n",
       "            <td>Engineering</td>\n",
       "            <td>32260</td>\n",
       "            <td>289</td>\n",
       "            <td>21239</td>\n",
       "            <td>11021</td>\n",
       "            <td>0.341630502</td>\n",
       "            <td>25694</td>\n",
       "            <td>23170</td>\n",
       "            <td>5180</td>\n",
       "            <td>16697</td>\n",
       "            <td>1672</td>\n",
       "            <td>0.061097712</td>\n",
       "            <td>65000</td>\n",
       "            <td>50000</td>\n",
       "            <td>75000</td>\n",
       "            <td>18314</td>\n",
       "            <td>4440</td>\n",
       "            <td>972</td>\n",
       "        </tr>\n",
       "        <tr>\n",
       "            <td>5</td>\n",
       "            <td>6</td>\n",
       "            <td>2418</td>\n",
       "            <td>NUCLEAR ENGINEERING</td>\n",
       "            <td>Engineering</td>\n",
       "            <td>2573</td>\n",
       "            <td>17</td>\n",
       "            <td>2200</td>\n",
       "            <td>373</td>\n",
       "            <td>0.144966965</td>\n",
       "            <td>1857</td>\n",
       "            <td>2038</td>\n",
       "            <td>264</td>\n",
       "            <td>1449</td>\n",
       "            <td>400</td>\n",
       "            <td>0.177226407</td>\n",
       "            <td>65000</td>\n",
       "            <td>50000</td>\n",
       "            <td>102000</td>\n",
       "            <td>1142</td>\n",
       "            <td>657</td>\n",
       "            <td>244</td>\n",
       "        </tr>\n",
       "        <tr>\n",
       "            <td>6</td>\n",
       "            <td>7</td>\n",
       "            <td>6202</td>\n",
       "            <td>ACTUARIAL SCIENCE</td>\n",
       "            <td>Business</td>\n",
       "            <td>3777</td>\n",
       "            <td>51</td>\n",
       "            <td>832</td>\n",
       "            <td>960</td>\n",
       "            <td>0.535714286</td>\n",
       "            <td>2912</td>\n",
       "            <td>2924</td>\n",
       "            <td>296</td>\n",
       "            <td>2482</td>\n",
       "            <td>308</td>\n",
       "            <td>0.095652174</td>\n",
       "            <td>62000</td>\n",
       "            <td>53000</td>\n",
       "            <td>72000</td>\n",
       "            <td>1768</td>\n",
       "            <td>314</td>\n",
       "            <td>259</td>\n",
       "        </tr>\n",
       "        <tr>\n",
       "            <td>7</td>\n",
       "            <td>8</td>\n",
       "            <td>5001</td>\n",
       "            <td>ASTRONOMY AND ASTROPHYSICS</td>\n",
       "            <td>Physical Sciences</td>\n",
       "            <td>1792</td>\n",
       "            <td>10</td>\n",
       "            <td>2110</td>\n",
       "            <td>1667</td>\n",
       "            <td>0.44135557299999995</td>\n",
       "            <td>1526</td>\n",
       "            <td>1085</td>\n",
       "            <td>553</td>\n",
       "            <td>827</td>\n",
       "            <td>33</td>\n",
       "            <td>0.021167415</td>\n",
       "            <td>62000</td>\n",
       "            <td>31500</td>\n",
       "            <td>109000</td>\n",
       "            <td>972</td>\n",
       "            <td>500</td>\n",
       "            <td>220</td>\n",
       "        </tr>\n",
       "        <tr>\n",
       "            <td>8</td>\n",
       "            <td>9</td>\n",
       "            <td>2414</td>\n",
       "            <td>MECHANICAL ENGINEERING</td>\n",
       "            <td>Engineering</td>\n",
       "            <td>91227</td>\n",
       "            <td>1029</td>\n",
       "            <td>12953</td>\n",
       "            <td>2105</td>\n",
       "            <td>0.139792801</td>\n",
       "            <td>76442</td>\n",
       "            <td>71298</td>\n",
       "            <td>13101</td>\n",
       "            <td>54639</td>\n",
       "            <td>4650</td>\n",
       "            <td>0.057342277999999997</td>\n",
       "            <td>60000</td>\n",
       "            <td>48000</td>\n",
       "            <td>70000</td>\n",
       "            <td>52844</td>\n",
       "            <td>16384</td>\n",
       "            <td>3253</td>\n",
       "        </tr>\n",
       "        <tr>\n",
       "            <td>9</td>\n",
       "            <td>10</td>\n",
       "            <td>2408</td>\n",
       "            <td>ELECTRICAL ENGINEERING</td>\n",
       "            <td>Engineering</td>\n",
       "            <td>81527</td>\n",
       "            <td>631</td>\n",
       "            <td>8407</td>\n",
       "            <td>6548</td>\n",
       "            <td>0.437846874</td>\n",
       "            <td>61928</td>\n",
       "            <td>55450</td>\n",
       "            <td>12695</td>\n",
       "            <td>41413</td>\n",
       "            <td>3895</td>\n",
       "            <td>0.059173845</td>\n",
       "            <td>60000</td>\n",
       "            <td>45000</td>\n",
       "            <td>72000</td>\n",
       "            <td>45829</td>\n",
       "            <td>10874</td>\n",
       "            <td>3170</td>\n",
       "        </tr>\n",
       "        <tr>\n",
       "            <td>10</td>\n",
       "            <td>11</td>\n",
       "            <td>2407</td>\n",
       "            <td>COMPUTER ENGINEERING</td>\n",
       "            <td>Engineering</td>\n",
       "            <td>41542</td>\n",
       "            <td>399</td>\n",
       "            <td>33258</td>\n",
       "            <td>8284</td>\n",
       "            <td>0.199412643</td>\n",
       "            <td>32506</td>\n",
       "            <td>30315</td>\n",
       "            <td>5146</td>\n",
       "            <td>23621</td>\n",
       "            <td>2275</td>\n",
       "            <td>0.065409275</td>\n",
       "            <td>60000</td>\n",
       "            <td>45000</td>\n",
       "            <td>75000</td>\n",
       "            <td>23694</td>\n",
       "            <td>5721</td>\n",
       "            <td>980</td>\n",
       "        </tr>\n",
       "        <tr>\n",
       "            <td>11</td>\n",
       "            <td>12</td>\n",
       "            <td>2401</td>\n",
       "            <td>AEROSPACE ENGINEERING</td>\n",
       "            <td>Engineering</td>\n",
       "            <td>15058</td>\n",
       "            <td>147</td>\n",
       "            <td>65511</td>\n",
       "            <td>16016</td>\n",
       "            <td>0.19645025600000002</td>\n",
       "            <td>11391</td>\n",
       "            <td>11106</td>\n",
       "            <td>2724</td>\n",
       "            <td>8790</td>\n",
       "            <td>794</td>\n",
       "            <td>0.065162085</td>\n",
       "            <td>60000</td>\n",
       "            <td>42000</td>\n",
       "            <td>70000</td>\n",
       "            <td>8184</td>\n",
       "            <td>2425</td>\n",
       "            <td>372</td>\n",
       "        </tr>\n",
       "        <tr>\n",
       "            <td>12</td>\n",
       "            <td>13</td>\n",
       "            <td>2404</td>\n",
       "            <td>BIOMEDICAL ENGINEERING</td>\n",
       "            <td>Engineering</td>\n",
       "            <td>14955</td>\n",
       "            <td>79</td>\n",
       "            <td>80320</td>\n",
       "            <td>10907</td>\n",
       "            <td>0.11955890300000001</td>\n",
       "            <td>10047</td>\n",
       "            <td>9017</td>\n",
       "            <td>2694</td>\n",
       "            <td>5986</td>\n",
       "            <td>1019</td>\n",
       "            <td>0.09208386</td>\n",
       "            <td>60000</td>\n",
       "            <td>36000</td>\n",
       "            <td>70000</td>\n",
       "            <td>6439</td>\n",
       "            <td>2471</td>\n",
       "            <td>789</td>\n",
       "        </tr>\n",
       "        <tr>\n",
       "            <td>13</td>\n",
       "            <td>14</td>\n",
       "            <td>5008</td>\n",
       "            <td>MATERIALS SCIENCE</td>\n",
       "            <td>Engineering</td>\n",
       "            <td>4279</td>\n",
       "            <td>22</td>\n",
       "            <td>2949</td>\n",
       "            <td>1330</td>\n",
       "            <td>0.310820285</td>\n",
       "            <td>3307</td>\n",
       "            <td>2751</td>\n",
       "            <td>878</td>\n",
       "            <td>1967</td>\n",
       "            <td>78</td>\n",
       "            <td>0.023042836</td>\n",
       "            <td>60000</td>\n",
       "            <td>39000</td>\n",
       "            <td>65000</td>\n",
       "            <td>2626</td>\n",
       "            <td>391</td>\n",
       "            <td>81</td>\n",
       "        </tr>\n",
       "        <tr>\n",
       "            <td>14</td>\n",
       "            <td>15</td>\n",
       "            <td>2409</td>\n",
       "            <td>ENGINEERING MECHANICS PHYSICS AND SCIENCE</td>\n",
       "            <td>Engineering</td>\n",
       "            <td>4321</td>\n",
       "            <td>30</td>\n",
       "            <td>3526</td>\n",
       "            <td>795</td>\n",
       "            <td>0.183985189</td>\n",
       "            <td>3608</td>\n",
       "            <td>2999</td>\n",
       "            <td>811</td>\n",
       "            <td>2004</td>\n",
       "            <td>23</td>\n",
       "            <td>0.006334343</td>\n",
       "            <td>58000</td>\n",
       "            <td>25000</td>\n",
       "            <td>74000</td>\n",
       "            <td>2439</td>\n",
       "            <td>947</td>\n",
       "            <td>263</td>\n",
       "        </tr>\n",
       "        <tr>\n",
       "            <td>15</td>\n",
       "            <td>16</td>\n",
       "            <td>2402</td>\n",
       "            <td>BIOLOGICAL ENGINEERING</td>\n",
       "            <td>Engineering</td>\n",
       "            <td>8925</td>\n",
       "            <td>55</td>\n",
       "            <td>6062</td>\n",
       "            <td>2863</td>\n",
       "            <td>0.32078431399999996</td>\n",
       "            <td>6170</td>\n",
       "            <td>5455</td>\n",
       "            <td>1983</td>\n",
       "            <td>3413</td>\n",
       "            <td>589</td>\n",
       "            <td>0.087143069</td>\n",
       "            <td>57100</td>\n",
       "            <td>40000</td>\n",
       "            <td>76000</td>\n",
       "            <td>3603</td>\n",
       "            <td>1595</td>\n",
       "            <td>524</td>\n",
       "        </tr>\n",
       "        <tr>\n",
       "            <td>16</td>\n",
       "            <td>17</td>\n",
       "            <td>2412</td>\n",
       "            <td>INDUSTRIAL AND MANUFACTURING ENGINEERING</td>\n",
       "            <td>Engineering</td>\n",
       "            <td>18968</td>\n",
       "            <td>183</td>\n",
       "            <td>12453</td>\n",
       "            <td>6515</td>\n",
       "            <td>0.34347321799999997</td>\n",
       "            <td>15604</td>\n",
       "            <td>14879</td>\n",
       "            <td>2243</td>\n",
       "            <td>11326</td>\n",
       "            <td>699</td>\n",
       "            <td>0.042875544</td>\n",
       "            <td>57000</td>\n",
       "            <td>37900</td>\n",
       "            <td>67000</td>\n",
       "            <td>8306</td>\n",
       "            <td>3235</td>\n",
       "            <td>640</td>\n",
       "        </tr>\n",
       "        <tr>\n",
       "            <td>17</td>\n",
       "            <td>18</td>\n",
       "            <td>2400</td>\n",
       "            <td>GENERAL ENGINEERING</td>\n",
       "            <td>Engineering</td>\n",
       "            <td>61152</td>\n",
       "            <td>425</td>\n",
       "            <td>45683</td>\n",
       "            <td>15469</td>\n",
       "            <td>0.252959838</td>\n",
       "            <td>44931</td>\n",
       "            <td>41235</td>\n",
       "            <td>7199</td>\n",
       "            <td>33540</td>\n",
       "            <td>2859</td>\n",
       "            <td>0.059824231</td>\n",
       "            <td>56000</td>\n",
       "            <td>36000</td>\n",
       "            <td>69000</td>\n",
       "            <td>26898</td>\n",
       "            <td>11734</td>\n",
       "            <td>3192</td>\n",
       "        </tr>\n",
       "        <tr>\n",
       "            <td>18</td>\n",
       "            <td>19</td>\n",
       "            <td>2403</td>\n",
       "            <td>ARCHITECTURAL ENGINEERING</td>\n",
       "            <td>Engineering</td>\n",
       "            <td>2825</td>\n",
       "            <td>26</td>\n",
       "            <td>1835</td>\n",
       "            <td>990</td>\n",
       "            <td>0.35044247799999995</td>\n",
       "            <td>2575</td>\n",
       "            <td>2277</td>\n",
       "            <td>343</td>\n",
       "            <td>1848</td>\n",
       "            <td>170</td>\n",
       "            <td>0.061930782999999996</td>\n",
       "            <td>54000</td>\n",
       "            <td>38000</td>\n",
       "            <td>65000</td>\n",
       "            <td>1665</td>\n",
       "            <td>649</td>\n",
       "            <td>137</td>\n",
       "        </tr>\n",
       "        <tr>\n",
       "            <td>19</td>\n",
       "            <td>20</td>\n",
       "            <td>3201</td>\n",
       "            <td>COURT REPORTING</td>\n",
       "            <td>Law &amp; Public Policy</td>\n",
       "            <td>1148</td>\n",
       "            <td>14</td>\n",
       "            <td>877</td>\n",
       "            <td>271</td>\n",
       "            <td>0.236062718</td>\n",
       "            <td>930</td>\n",
       "            <td>808</td>\n",
       "            <td>223</td>\n",
       "            <td>808</td>\n",
       "            <td>11</td>\n",
       "            <td>0.011689692</td>\n",
       "            <td>54000</td>\n",
       "            <td>50000</td>\n",
       "            <td>54000</td>\n",
       "            <td>402</td>\n",
       "            <td>528</td>\n",
       "            <td>144</td>\n",
       "        </tr>\n",
       "    </tbody>\n",
       "</table>"
      ],
      "text/plain": [
       "[(0, 1, 2419, 'PETROLEUM ENGINEERING', 'Engineering', 2339, 36, 2057, 282, 0.120564344, 1976, 1849, 270, 1207, 37, 0.018380527, 110000, 95000, 125000, 1534, 364, 193),\n",
       " (1, 2, 2416, 'MINING AND MINERAL ENGINEERING', 'Engineering', 756, 7, 679, 77, 0.10185185199999999, 640, 556, 170, 388, 85, 0.117241379, 75000, 55000, 90000, 350, 257, 50),\n",
       " (2, 3, 2415, 'METALLURGICAL ENGINEERING', 'Engineering', 856, 3, 725, 131, 0.153037383, 648, 558, 133, 340, 16, 0.024096386, 73000, 50000, 105000, 456, 176, 0),\n",
       " (3, 4, 2417, 'NAVAL ARCHITECTURE AND MARINE ENGINEERING', 'Engineering', 1258, 16, 1123, 135, 0.107313196, 758, 1069, 150, 692, 40, 0.050125313, 70000, 43000, 80000, 529, 102, 0),\n",
       " (4, 5, 2405, 'CHEMICAL ENGINEERING', 'Engineering', 32260, 289, 21239, 11021, 0.341630502, 25694, 23170, 5180, 16697, 1672, 0.061097712, 65000, 50000, 75000, 18314, 4440, 972),\n",
       " (5, 6, 2418, 'NUCLEAR ENGINEERING', 'Engineering', 2573, 17, 2200, 373, 0.144966965, 1857, 2038, 264, 1449, 400, 0.177226407, 65000, 50000, 102000, 1142, 657, 244),\n",
       " (6, 7, 6202, 'ACTUARIAL SCIENCE', 'Business', 3777, 51, 832, 960, 0.535714286, 2912, 2924, 296, 2482, 308, 0.095652174, 62000, 53000, 72000, 1768, 314, 259),\n",
       " (7, 8, 5001, 'ASTRONOMY AND ASTROPHYSICS', 'Physical Sciences', 1792, 10, 2110, 1667, 0.44135557299999995, 1526, 1085, 553, 827, 33, 0.021167415, 62000, 31500, 109000, 972, 500, 220),\n",
       " (8, 9, 2414, 'MECHANICAL ENGINEERING', 'Engineering', 91227, 1029, 12953, 2105, 0.139792801, 76442, 71298, 13101, 54639, 4650, 0.057342277999999997, 60000, 48000, 70000, 52844, 16384, 3253),\n",
       " (9, 10, 2408, 'ELECTRICAL ENGINEERING', 'Engineering', 81527, 631, 8407, 6548, 0.437846874, 61928, 55450, 12695, 41413, 3895, 0.059173845, 60000, 45000, 72000, 45829, 10874, 3170),\n",
       " (10, 11, 2407, 'COMPUTER ENGINEERING', 'Engineering', 41542, 399, 33258, 8284, 0.199412643, 32506, 30315, 5146, 23621, 2275, 0.065409275, 60000, 45000, 75000, 23694, 5721, 980),\n",
       " (11, 12, 2401, 'AEROSPACE ENGINEERING', 'Engineering', 15058, 147, 65511, 16016, 0.19645025600000002, 11391, 11106, 2724, 8790, 794, 0.065162085, 60000, 42000, 70000, 8184, 2425, 372),\n",
       " (12, 13, 2404, 'BIOMEDICAL ENGINEERING', 'Engineering', 14955, 79, 80320, 10907, 0.11955890300000001, 10047, 9017, 2694, 5986, 1019, 0.09208386, 60000, 36000, 70000, 6439, 2471, 789),\n",
       " (13, 14, 5008, 'MATERIALS SCIENCE', 'Engineering', 4279, 22, 2949, 1330, 0.310820285, 3307, 2751, 878, 1967, 78, 0.023042836, 60000, 39000, 65000, 2626, 391, 81),\n",
       " (14, 15, 2409, 'ENGINEERING MECHANICS PHYSICS AND SCIENCE', 'Engineering', 4321, 30, 3526, 795, 0.183985189, 3608, 2999, 811, 2004, 23, 0.006334343, 58000, 25000, 74000, 2439, 947, 263),\n",
       " (15, 16, 2402, 'BIOLOGICAL ENGINEERING', 'Engineering', 8925, 55, 6062, 2863, 0.32078431399999996, 6170, 5455, 1983, 3413, 589, 0.087143069, 57100, 40000, 76000, 3603, 1595, 524),\n",
       " (16, 17, 2412, 'INDUSTRIAL AND MANUFACTURING ENGINEERING', 'Engineering', 18968, 183, 12453, 6515, 0.34347321799999997, 15604, 14879, 2243, 11326, 699, 0.042875544, 57000, 37900, 67000, 8306, 3235, 640),\n",
       " (17, 18, 2400, 'GENERAL ENGINEERING', 'Engineering', 61152, 425, 45683, 15469, 0.252959838, 44931, 41235, 7199, 33540, 2859, 0.059824231, 56000, 36000, 69000, 26898, 11734, 3192),\n",
       " (18, 19, 2403, 'ARCHITECTURAL ENGINEERING', 'Engineering', 2825, 26, 1835, 990, 0.35044247799999995, 2575, 2277, 343, 1848, 170, 0.061930782999999996, 54000, 38000, 65000, 1665, 649, 137),\n",
       " (19, 20, 3201, 'COURT REPORTING', 'Law & Public Policy', 1148, 14, 877, 271, 0.236062718, 930, 808, 223, 808, 11, 0.011689692, 54000, 50000, 54000, 402, 528, 144)]"
      ]
     },
     "execution_count": 11,
     "metadata": {},
     "output_type": "execute_result"
    }
   ],
   "source": [
    "%%sql\n",
    "SELECT *\n",
    "FROM recent_grads\n",
    "LIMIT 20;"
   ]
  },
  {
   "cell_type": "markdown",
   "id": "3b73fb47",
   "metadata": {},
   "source": [
    "### <span style=\"color:#E600E6\">MAX</span>\n",
    "The max aggregate function returns the maximum value in a table field."
   ]
  },
  {
   "cell_type": "code",
   "execution_count": 4,
   "id": "999014ef",
   "metadata": {},
   "outputs": [
    {
     "name": "stdout",
     "output_type": "stream",
     "text": [
      " * sqlite:///Jobs.db\n",
      "Done.\n"
     ]
    },
    {
     "data": {
      "text/html": [
       "<table>\n",
       "    <thead>\n",
       "        <tr>\n",
       "            <th>Major</th>\n",
       "            <th>MAX(Unemployment_rate)</th>\n",
       "        </tr>\n",
       "    </thead>\n",
       "    <tbody>\n",
       "        <tr>\n",
       "            <td>NUCLEAR ENGINEERING</td>\n",
       "            <td>0.177226407</td>\n",
       "        </tr>\n",
       "    </tbody>\n",
       "</table>"
      ],
      "text/plain": [
       "[('NUCLEAR ENGINEERING', 0.177226407)]"
      ]
     },
     "execution_count": 4,
     "metadata": {},
     "output_type": "execute_result"
    }
   ],
   "source": [
    "%%sql\n",
    "SELECT Major, MAX(Unemployment_rate)\n",
    "FROM recent_grads;"
   ]
  },
  {
   "cell_type": "code",
   "execution_count": null,
   "id": "82293456",
   "metadata": {},
   "outputs": [],
   "source": []
  },
  {
   "cell_type": "markdown",
   "id": "39d7482b",
   "metadata": {},
   "source": [
    "### <span style=\"color:#E600E6\">MIN</span>\n",
    "Returns the minimum value in a field"
   ]
  },
  {
   "cell_type": "code",
   "execution_count": 7,
   "id": "6191c2f9",
   "metadata": {},
   "outputs": [
    {
     "name": "stdout",
     "output_type": "stream",
     "text": [
      " * sqlite:///Jobs.db\n",
      "Done.\n"
     ]
    },
    {
     "data": {
      "text/html": [
       "<table>\n",
       "    <thead>\n",
       "        <tr>\n",
       "            <th>Major</th>\n",
       "            <th>MIN(Unemployment_rate)</th>\n",
       "        </tr>\n",
       "    </thead>\n",
       "    <tbody>\n",
       "        <tr>\n",
       "            <td>MATHEMATICS AND COMPUTER SCIENCE</td>\n",
       "            <td>0.0</td>\n",
       "        </tr>\n",
       "    </tbody>\n",
       "</table>"
      ],
      "text/plain": [
       "[('MATHEMATICS AND COMPUTER SCIENCE', 0.0)]"
      ]
     },
     "execution_count": 7,
     "metadata": {},
     "output_type": "execute_result"
    }
   ],
   "source": [
    "%%sql\n",
    "SELECT Major, MIN(Unemployment_rate)\n",
    "FROM recent_grads;"
   ]
  },
  {
   "cell_type": "code",
   "execution_count": null,
   "id": "590b0844",
   "metadata": {},
   "outputs": [],
   "source": []
  },
  {
   "cell_type": "markdown",
   "id": "50a6c494",
   "metadata": {},
   "source": [
    "### <span style=\"color:#E600E6\">SUM</span>\n",
    "Sums the values in a column.\n",
    "> <span style=\"color:green\">Example: Total number of unemployed in the Engineering major category.</span>"
   ]
  },
  {
   "cell_type": "code",
   "execution_count": 11,
   "id": "ead7b094",
   "metadata": {},
   "outputs": [
    {
     "name": "stdout",
     "output_type": "stream",
     "text": [
      " * sqlite:///Jobs.db\n",
      "Done.\n"
     ]
    },
    {
     "data": {
      "text/html": [
       "<table>\n",
       "    <thead>\n",
       "        <tr>\n",
       "            <th>SUM(Unemployed)</th>\n",
       "        </tr>\n",
       "    </thead>\n",
       "    <tbody>\n",
       "        <tr>\n",
       "            <td>29817</td>\n",
       "        </tr>\n",
       "    </tbody>\n",
       "</table>"
      ],
      "text/plain": [
       "[(29817,)]"
      ]
     },
     "execution_count": 11,
     "metadata": {},
     "output_type": "execute_result"
    }
   ],
   "source": [
    "%%sql\n",
    "SELECT SUM(Unemployed)\n",
    "FROM recent_grads\n",
    "WHERE Major_category == \"Engineering\";"
   ]
  },
  {
   "cell_type": "code",
   "execution_count": 8,
   "id": "c0f59641",
   "metadata": {
    "vscode": {
     "languageId": "sql"
    }
   },
   "outputs": [
    {
     "name": "stdout",
     "output_type": "stream",
     "text": [
      " * sqlite:///Jobs.db\n",
      "Done.\n"
     ]
    },
    {
     "data": {
      "text/html": [
       "<table>\n",
       "    <thead>\n",
       "        <tr>\n",
       "            <th>COUNT(Sample_size)</th>\n",
       "        </tr>\n",
       "    </thead>\n",
       "    <tbody>\n",
       "        <tr>\n",
       "            <td>173</td>\n",
       "        </tr>\n",
       "    </tbody>\n",
       "</table>"
      ],
      "text/plain": [
       "[(173,)]"
      ]
     },
     "execution_count": 8,
     "metadata": {},
     "output_type": "execute_result"
    }
   ],
   "source": [
    "%%sql\n",
    "SELECT COUNT(Sample_size)\n",
    "FROM recent_grads;"
   ]
  },
  {
   "cell_type": "code",
   "execution_count": 10,
   "id": "7d77f81d",
   "metadata": {
    "vscode": {
     "languageId": "sql"
    }
   },
   "outputs": [
    {
     "name": "stdout",
     "output_type": "stream",
     "text": [
      " * sqlite:///Jobs.db\n",
      "Done.\n"
     ]
    },
    {
     "data": {
      "text/html": [
       "<table>\n",
       "    <thead>\n",
       "        <tr>\n",
       "            <th>AVG(Sample_size)</th>\n",
       "        </tr>\n",
       "    </thead>\n",
       "    <tbody>\n",
       "        <tr>\n",
       "            <td>356.08092485549133</td>\n",
       "        </tr>\n",
       "    </tbody>\n",
       "</table>"
      ],
      "text/plain": [
       "[(356.08092485549133,)]"
      ]
     },
     "execution_count": 10,
     "metadata": {},
     "output_type": "execute_result"
    }
   ],
   "source": [
    "%%sql\n",
    "SELECT AVG(Sample_size)\n",
    "FROM recent_grads;"
   ]
  },
  {
   "cell_type": "markdown",
   "id": "9d59aaa8",
   "metadata": {},
   "source": [
    "### <span style=\"color:#E600E6\">More Aggregate Functions</span>\n",
    "> * **COUNT** - Takes the column name as an argument and counts the number of non-empty values in that column.\n",
    "> * **AVG** - Calculates the average values for a particular column.\n",
    "> * **ROUND** - Takes two arguments , the column name and an integer which represents the number of decimal places and rounds of the values in the column to that number of decimal places.\n",
    "\n",
    "**You can also combine multiple aggregate functions together in a single query.**"
   ]
  },
  {
   "cell_type": "code",
   "execution_count": 15,
   "id": "931c791d",
   "metadata": {},
   "outputs": [
    {
     "name": "stdout",
     "output_type": "stream",
     "text": [
      " * sqlite:///Jobs.db\n",
      "Done.\n"
     ]
    },
    {
     "data": {
      "text/html": [
       "<table>\n",
       "    <thead>\n",
       "        <tr>\n",
       "            <th>AVG(Total)</th>\n",
       "            <th>MIN(Men)</th>\n",
       "            <th>MAX(Women)</th>\n",
       "        </tr>\n",
       "    </thead>\n",
       "    <tbody>\n",
       "        <tr>\n",
       "            <td>39167.71676300578</td>\n",
       "            <td>119</td>\n",
       "            <td>307087</td>\n",
       "        </tr>\n",
       "    </tbody>\n",
       "</table>"
      ],
      "text/plain": [
       "[(39167.71676300578, 119, 307087)]"
      ]
     },
     "execution_count": 15,
     "metadata": {},
     "output_type": "execute_result"
    }
   ],
   "source": [
    "%%sql\n",
    "SELECT AVG(Total), MIN(Men), MAX(Women)\n",
    "FROM recent_grads;"
   ]
  },
  {
   "cell_type": "code",
   "execution_count": null,
   "id": "1eb00d99",
   "metadata": {},
   "outputs": [],
   "source": []
  },
  {
   "cell_type": "markdown",
   "id": "4c03dce7",
   "metadata": {},
   "source": [
    "### <span style=\"color:#E600E6\">Customizing the results with AS</span>\n",
    "* **AS** is a SQL keyword that allows us to rename a column or a table using an alias\n",
    "* The aliases only appear in the Result Table, not in the actual table in the database."
   ]
  },
  {
   "cell_type": "code",
   "execution_count": 12,
   "id": "5b63bd0d",
   "metadata": {},
   "outputs": [
    {
     "name": "stdout",
     "output_type": "stream",
     "text": [
      " * sqlite:///Jobs.db\n",
      "Done.\n"
     ]
    },
    {
     "data": {
      "text/html": [
       "<table>\n",
       "    <thead>\n",
       "        <tr>\n",
       "            <th>Total_Unemployed</th>\n",
       "        </tr>\n",
       "    </thead>\n",
       "    <tbody>\n",
       "        <tr>\n",
       "            <td>29817</td>\n",
       "        </tr>\n",
       "    </tbody>\n",
       "</table>"
      ],
      "text/plain": [
       "[(29817,)]"
      ]
     },
     "execution_count": 12,
     "metadata": {},
     "output_type": "execute_result"
    }
   ],
   "source": [
    "%%sql\n",
    "SELECT SUM(Unemployed) AS Total_Unemployed\n",
    "FROM recent_grads\n",
    "WHERE Major_category == \"Engineering\";"
   ]
  },
  {
   "cell_type": "markdown",
   "id": "562407dd",
   "metadata": {},
   "source": [
    "**We can drop AS entirely and just add the alias name next to the original column**"
   ]
  },
  {
   "cell_type": "code",
   "execution_count": 16,
   "id": "361da9dc",
   "metadata": {},
   "outputs": [
    {
     "name": "stdout",
     "output_type": "stream",
     "text": [
      " * sqlite:///Jobs.db\n",
      "Done.\n"
     ]
    },
    {
     "data": {
      "text/html": [
       "<table>\n",
       "    <thead>\n",
       "        <tr>\n",
       "            <th>Total</th>\n",
       "        </tr>\n",
       "    </thead>\n",
       "    <tbody>\n",
       "        <tr>\n",
       "            <td>29817</td>\n",
       "        </tr>\n",
       "    </tbody>\n",
       "</table>"
      ],
      "text/plain": [
       "[(29817,)]"
      ]
     },
     "execution_count": 16,
     "metadata": {},
     "output_type": "execute_result"
    }
   ],
   "source": [
    "%%sql\n",
    "SELECT SUM(Unemployed) Total\n",
    "FROM recent_grads\n",
    "WHERE Major_category == \"Engineering\";"
   ]
  },
  {
   "cell_type": "code",
   "execution_count": null,
   "id": "48277b92",
   "metadata": {},
   "outputs": [],
   "source": []
  },
  {
   "cell_type": "markdown",
   "id": "bab57834",
   "metadata": {},
   "source": [
    "### <span style=\"color:#E600E6\">Order of Execution</span>\n",
    "* SQL queries are not executed in the same order they are declared in the query statement.\n",
    " >   <span style=\"color:green\">\n",
    "         SELECT * <br>\n",
    "         &emsp;FROM [some_table] <br>\n",
    "         &emsp;WHERE [some_condition] <br>\n",
    "         &emsp;ORDER BY [some_column] <br>\n",
    "         LIMIT [some_limit];\n",
    "     </span>\n",
    "\n",
    "**Here is the order in which the clauses run:**\n",
    "\n",
    "1. FROM\n",
    "2. WHERE\n",
    "3. SELECT\n",
    "4. ORDER BY\n",
    "5. LIMIT\n",
    "\n",
    "Since aggregate functions are part of SELECT, the calculation happens after WHERE acts."
   ]
  },
  {
   "cell_type": "code",
   "execution_count": null,
   "id": "4c469cf2",
   "metadata": {},
   "outputs": [],
   "source": []
  },
  {
   "cell_type": "markdown",
   "id": "720c91ee",
   "metadata": {},
   "source": [
    "### <span style=\"color:#E600E6\">Missing Values</span>\n",
    "* Sometimes, cells in database table, may not have any values.\n",
    "* When that happens, we say that the value is missing or the table has missing values.\n",
    "* **NULL** is an entity in SQL that exists to capture the concept of missing values.\n",
    "* We can use **NULL** with **WHERE** to filter records with missing values."
   ]
  },
  {
   "cell_type": "code",
   "execution_count": 14,
   "id": "57105317",
   "metadata": {},
   "outputs": [
    {
     "name": "stdout",
     "output_type": "stream",
     "text": [
      " * sqlite:///Jobs.db\n",
      "Done.\n"
     ]
    },
    {
     "data": {
      "text/html": [
       "<table>\n",
       "    <thead>\n",
       "        <tr>\n",
       "            <th>index</th>\n",
       "            <th>Rank</th>\n",
       "            <th>Major_code</th>\n",
       "            <th>Major</th>\n",
       "            <th>Major_category</th>\n",
       "            <th>Total</th>\n",
       "            <th>Sample_size</th>\n",
       "            <th>Men</th>\n",
       "            <th>Women</th>\n",
       "            <th>ShareWomen</th>\n",
       "            <th>Employed</th>\n",
       "            <th>Full_time</th>\n",
       "            <th>Part_time</th>\n",
       "            <th>Full_time_year_round</th>\n",
       "            <th>Unemployed</th>\n",
       "            <th>Unemployment_rate</th>\n",
       "            <th>Median</th>\n",
       "            <th>P25th</th>\n",
       "            <th>P75th</th>\n",
       "            <th>College_jobs</th>\n",
       "            <th>Non_college_jobs</th>\n",
       "            <th>Low_wage_jobs</th>\n",
       "        </tr>\n",
       "    </thead>\n",
       "    <tbody>\n",
       "        <tr>\n",
       "            <td>73</td>\n",
       "            <td>74</td>\n",
       "            <td>3801</td>\n",
       "            <td>MILITARY TECHNOLOGIES</td>\n",
       "            <td>Industrial Arts &amp; Consumer Services</td>\n",
       "            <td>124</td>\n",
       "            <td>4</td>\n",
       "            <td>1756</td>\n",
       "            <td>1323</td>\n",
       "            <td>0.429684963</td>\n",
       "            <td>0</td>\n",
       "            <td>111</td>\n",
       "            <td>0</td>\n",
       "            <td>111</td>\n",
       "            <td>0</td>\n",
       "            <td>None</td>\n",
       "            <td>40000</td>\n",
       "            <td>40000</td>\n",
       "            <td>40000</td>\n",
       "            <td>0</td>\n",
       "            <td>0</td>\n",
       "            <td>0</td>\n",
       "        </tr>\n",
       "    </tbody>\n",
       "</table>"
      ],
      "text/plain": [
       "[(73, 74, 3801, 'MILITARY TECHNOLOGIES', 'Industrial Arts & Consumer Services', 124, 4, 1756, 1323, 0.429684963, 0, 111, 0, 111, 0, None, 40000, 40000, 40000, 0, 0, 0)]"
      ]
     },
     "execution_count": 14,
     "metadata": {},
     "output_type": "execute_result"
    }
   ],
   "source": [
    "%%sql\n",
    "SELECT *\n",
    "FROM recent_grads\n",
    "WHERE Unemployment_rate IS NULL;"
   ]
  },
  {
   "cell_type": "code",
   "execution_count": null,
   "id": "17df36d9",
   "metadata": {},
   "outputs": [],
   "source": []
  },
  {
   "cell_type": "markdown",
   "id": "822b44f5",
   "metadata": {},
   "source": [
    "### <span style=\"color:#E600E6\">Performing Arithmetic in SQL</span>\n",
    "* SQL supports the standard arithmetic operators: *, +, -, and / that we can use to perform arithmetic operations on table columns."
   ]
  },
  {
   "cell_type": "code",
   "execution_count": 17,
   "id": "b11db9e5",
   "metadata": {},
   "outputs": [
    {
     "name": "stdout",
     "output_type": "stream",
     "text": [
      " * sqlite:///Jobs.db\n",
      "Done.\n"
     ]
    },
    {
     "data": {
      "text/html": [
       "<table>\n",
       "    <thead>\n",
       "        <tr>\n",
       "            <th>percent_female</th>\n",
       "        </tr>\n",
       "    </thead>\n",
       "    <tbody>\n",
       "        <tr>\n",
       "            <td>12.0564344</td>\n",
       "        </tr>\n",
       "        <tr>\n",
       "            <td>10.1851852</td>\n",
       "        </tr>\n",
       "        <tr>\n",
       "            <td>15.3037383</td>\n",
       "        </tr>\n",
       "        <tr>\n",
       "            <td>10.731319599999999</td>\n",
       "        </tr>\n",
       "        <tr>\n",
       "            <td>34.1630502</td>\n",
       "        </tr>\n",
       "        <tr>\n",
       "            <td>14.4966965</td>\n",
       "        </tr>\n",
       "        <tr>\n",
       "            <td>53.571428600000004</td>\n",
       "        </tr>\n",
       "        <tr>\n",
       "            <td>44.135557299999995</td>\n",
       "        </tr>\n",
       "        <tr>\n",
       "            <td>13.979280099999999</td>\n",
       "        </tr>\n",
       "        <tr>\n",
       "            <td>43.7846874</td>\n",
       "        </tr>\n",
       "    </tbody>\n",
       "</table>"
      ],
      "text/plain": [
       "[(12.0564344,),\n",
       " (10.1851852,),\n",
       " (15.3037383,),\n",
       " (10.731319599999999,),\n",
       " (34.1630502,),\n",
       " (14.4966965,),\n",
       " (53.571428600000004,),\n",
       " (44.135557299999995,),\n",
       " (13.979280099999999,),\n",
       " (43.7846874,)]"
      ]
     },
     "execution_count": 17,
     "metadata": {},
     "output_type": "execute_result"
    }
   ],
   "source": [
    "%%sql\n",
    "SELECT ShareWomen * 100 percent_female \n",
    "  FROM recent_grads \n",
    "LIMIT 10;"
   ]
  },
  {
   "cell_type": "markdown",
   "id": "31d5d598",
   "metadata": {},
   "source": [
    "# END"
   ]
  }
 ],
 "metadata": {
  "kernelspec": {
   "display_name": "Python 3 (ipykernel)",
   "language": "python",
   "name": "python3"
  },
  "language_info": {
   "codemirror_mode": {
    "name": "ipython",
    "version": 3
   },
   "file_extension": ".py",
   "mimetype": "text/x-python",
   "name": "python",
   "nbconvert_exporter": "python",
   "pygments_lexer": "ipython3",
   "version": "3.10.6"
  }
 },
 "nbformat": 4,
 "nbformat_minor": 5
}
